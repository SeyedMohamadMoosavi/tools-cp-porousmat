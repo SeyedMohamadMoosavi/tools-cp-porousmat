{
 "cells": [
  {
   "cell_type": "code",
   "execution_count": 1,
   "metadata": {},
   "outputs": [
    {
     "name": "stderr",
     "output_type": "stream",
     "text": [
      "/Users/moosavi/miniconda3/envs/cpenv/lib/python3.9/site-packages/xgboost/compat.py:36: FutureWarning: pandas.Int64Index is deprecated and will be removed from pandas in a future version. Use pandas.Index with the appropriate dtype instead.\n",
      "  from pandas import MultiIndex, Int64Index\n"
     ]
    }
   ],
   "source": [
    "# General\n",
    "import pandas as pd\n",
    "import numpy as np\n",
    "import pathlib\n",
    "import matplotlib.pyplot as plt\n",
    "%matplotlib inline\n",
    "\n",
    "# ML\n",
    "from sklearn.pipeline import Pipeline\n",
    "from sklearn.preprocessing import StandardScaler\n",
    "from sklearn.feature_selection import VarianceThreshold\n",
    "from sklearn.model_selection import train_test_split\n",
    "from sklearn.utils import resample\n",
    "import joblib\n",
    "from xgboost import XGBRegressor \n",
    "\n",
    "# Cp \n",
    "from cp_app.utils import select_structures\n",
    "from cp_app.descriptors import cv_features\n",
    "from cp_app.predictions import predict_Cv_ensemble_dataset\n",
    "\n",
    "# others\n",
    "import warnings\n",
    "warnings.filterwarnings('ignore')"
   ]
  },
  {
   "cell_type": "markdown",
   "metadata": {},
   "source": [
    "## Setting up the model, target, and features"
   ]
  },
  {
   "cell_type": "code",
   "execution_count": 2,
   "metadata": {},
   "outputs": [],
   "source": [
    "\n",
    "FEATURES = cv_features\n",
    "TARGET = 'pCv_250.00' \n",
    "temperature=\"250.00\""
   ]
  },
  {
   "cell_type": "code",
   "execution_count": 3,
   "metadata": {},
   "outputs": [],
   "source": [
    "def xgb_model(best_params, X, FEATURES, TARGET):\n",
    "    pipe_xgb = Pipeline(\n",
    "        [\n",
    "       ('scaling', StandardScaler()), \n",
    "       ('variance_threshold', VarianceThreshold(threshold=0.95)),\n",
    "       ('xgb', XGBRegressor())\n",
    "       \n",
    "       ]\n",
    "    )\n",
    "    pipe_xgb.set_params(xgb__reg_lambda = best_params[\"xgb__reg_lambda\"])\n",
    "    pipe_xgb.set_params(xgb__reg_alpha = best_params[\"xgb__reg_alpha\"])\n",
    "    pipe_xgb.set_params(xgb__n_estimators = best_params[\"xgb__n_estimators\"])\n",
    "    pipe_xgb.set_params(xgb__max_depth = best_params[\"xgb__max_depth\"])\n",
    "    pipe_xgb.set_params(xgb__learning_rate = best_params[\"xgb__learning_rate\"])\n",
    "    \n",
    "    pipe_xgb.fit(X[FEATURES], X[TARGET])\n",
    "    \n",
    "    return pipe_xgb\n",
    "    "
   ]
  },
  {
   "cell_type": "code",
   "execution_count": 4,
   "metadata": {},
   "outputs": [],
   "source": [
    "## these were obtained using hyperopt\n",
    "xgb_hyperparams = {\n",
    "    'xgb__reg_lambda': 0.049238826317067365,\n",
    "    'xgb__reg_alpha': 0.049238826317067365,\n",
    "    'xgb__n_estimators': 300,\n",
    "    'xgb__max_depth': 10,\n",
    "    'xgb__learning_rate': 0.1\n",
    "}"
   ]
  },
  {
   "cell_type": "markdown",
   "metadata": {},
   "source": [
    "## Data loading, and train test split,..."
   ]
  },
  {
   "cell_type": "code",
   "execution_count": 5,
   "metadata": {},
   "outputs": [],
   "source": [
    "RANDOM_SEED = 3982\n",
    "DATA_DIR = 'data/'\n",
    "DATA_site = 'alldata.csv'\n",
    "DATA_structure = 'structures_data.csv'\n",
    "flag=\"smallML_120_10\" # name_#TrainSize_#EnsembleSize \n",
    "N_ensemble = int(flag.split(\"_\")[2])\n",
    "N_train=int(flag.split(\"_\")[1])"
   ]
  },
  {
   "cell_type": "code",
   "execution_count": 6,
   "metadata": {},
   "outputs": [
    {
     "name": "stdout",
     "output_type": "stream",
     "text": [
      "Total structures:  232\n"
     ]
    }
   ],
   "source": [
    "df_structures=pd.read_csv(DATA_DIR+DATA_structure)\n",
    "df_allsites = pd.read_csv(DATA_DIR+DATA_site)\n",
    "print(\"Total structures: \", len(df_structures))"
   ]
  },
  {
   "cell_type": "markdown",
   "metadata": {},
   "source": [
    "### train test split, making sure we have diverse training set"
   ]
  },
  {
   "cell_type": "code",
   "execution_count": 7,
   "metadata": {},
   "outputs": [
    {
     "name": "stdout",
     "output_type": "stream",
     "text": [
      "120 structures in training set\n",
      "112 structures in test set\n"
     ]
    }
   ],
   "source": [
    "inds=select_structures(N_train,df_structures)\n",
    "df_train_structures=df_structures.loc[df_structures.index.isin(inds)]\n",
    "df_test_structures=df_structures.loc[~df_structures.index.isin(inds)]\n",
    "df_train_structures.to_csv(DATA_DIR+\"train_structures.csv\")\n",
    "df_test_structures.to_csv(DATA_DIR+\"test_structures.csv\")\n",
    "print(\"{} structures in training set\".format(len(df_train_structures)))\n",
    "print(\"{} structures in test set\".format(len(df_test_structures)))"
   ]
  },
  {
   "cell_type": "code",
   "execution_count": 8,
   "metadata": {},
   "outputs": [],
   "source": [
    "df = df_allsites.loc[df_allsites[\"structure_name\"].isin(df_train_structures[\"Unnamed: 0\"])]\n",
    "df_site_test = df_allsites.loc[~df_allsites[\"structure_name\"].isin(df_train_structures[\"Unnamed: 0\"])]\n",
    "df.to_csv(DATA_DIR+\"site_train.csv\",index=False)"
   ]
  },
  {
   "cell_type": "code",
   "execution_count": 9,
   "metadata": {},
   "outputs": [],
   "source": [
    "THRESHOLD =df[TARGET].median()\n",
    "train_size=min(int(0.95*len(df)),max(10000,len(df)))\n",
    "test_size=len(df)-train_size\n",
    "df['target_binned'] = [1 if value > THRESHOLD else 0 for value in df[TARGET]]\n",
    "df_train_stratified, df_test_stratified = train_test_split(df, train_size=train_size, \n",
    "                                                                test_size=test_size, \n",
    "                                                                random_state=RANDOM_SEED, \n",
    "                                                                stratify=df['target_binned']) "
   ]
  },
  {
   "cell_type": "markdown",
   "metadata": {},
   "source": [
    "### Generating bootstrapped trainset for quantifying uncertainty"
   ]
  },
  {
   "cell_type": "code",
   "execution_count": 10,
   "metadata": {},
   "outputs": [],
   "source": [
    "Xs = []\n",
    "for i in range(N_ensemble):\n",
    "    X = resample(df_train_stratified, replace=True,random_state=i) \n",
    "    Xs.append(X)"
   ]
  },
  {
   "cell_type": "markdown",
   "metadata": {},
   "source": [
    "## Training models"
   ]
  },
  {
   "cell_type": "code",
   "execution_count": 11,
   "metadata": {},
   "outputs": [
    {
     "ename": "KeyboardInterrupt",
     "evalue": "",
     "output_type": "error",
     "traceback": [
      "\u001b[0;31m---------------------------------------------------------------------------\u001b[0m",
      "\u001b[0;31mKeyboardInterrupt\u001b[0m                         Traceback (most recent call last)",
      "\u001b[1;32m/Users/moosavi/Dropbox (LSMO)/Projects/heat_capacity/app/tools-cp-porousmat/examples/example_ML_training_250K.ipynb Cell 16'\u001b[0m in \u001b[0;36m<cell line: 2>\u001b[0;34m()\u001b[0m\n\u001b[1;32m      <a href='vscode-notebook-cell:/Users/moosavi/Dropbox%20%28LSMO%29/Projects/heat_capacity/app/tools-cp-porousmat/examples/example_ML_training_250K.ipynb#ch0000015?line=0'>1</a>\u001b[0m models \u001b[39m=\u001b[39m []\n\u001b[1;32m      <a href='vscode-notebook-cell:/Users/moosavi/Dropbox%20%28LSMO%29/Projects/heat_capacity/app/tools-cp-porousmat/examples/example_ML_training_250K.ipynb#ch0000015?line=1'>2</a>\u001b[0m \u001b[39mfor\u001b[39;00m i,X \u001b[39min\u001b[39;00m \u001b[39menumerate\u001b[39m(Xs):\n\u001b[0;32m----> <a href='vscode-notebook-cell:/Users/moosavi/Dropbox%20%28LSMO%29/Projects/heat_capacity/app/tools-cp-porousmat/examples/example_ML_training_250K.ipynb#ch0000015?line=2'>3</a>\u001b[0m     model \u001b[39m=\u001b[39m xgb_model(xgb_hyperparams, X, FEATURES, TARGET)\n\u001b[1;32m      <a href='vscode-notebook-cell:/Users/moosavi/Dropbox%20%28LSMO%29/Projects/heat_capacity/app/tools-cp-porousmat/examples/example_ML_training_250K.ipynb#ch0000015?line=3'>4</a>\u001b[0m     models\u001b[39m.\u001b[39mappend(model)\n\u001b[1;32m      <a href='vscode-notebook-cell:/Users/moosavi/Dropbox%20%28LSMO%29/Projects/heat_capacity/app/tools-cp-porousmat/examples/example_ML_training_250K.ipynb#ch0000015?line=4'>5</a>\u001b[0m p \u001b[39m=\u001b[39m pathlib\u001b[39m.\u001b[39mPath(\u001b[39m\"\u001b[39m\u001b[39mensemble_models_\u001b[39m\u001b[39m{}\u001b[39;00m\u001b[39m/\u001b[39m\u001b[39m{}\u001b[39;00m\u001b[39m\"\u001b[39m\u001b[39m.\u001b[39mformat(flag,temperature))\n",
      "\u001b[1;32m/Users/moosavi/Dropbox (LSMO)/Projects/heat_capacity/app/tools-cp-porousmat/examples/example_ML_training_250K.ipynb Cell 4'\u001b[0m in \u001b[0;36mxgb_model\u001b[0;34m(best_params, X, FEATURES, TARGET)\u001b[0m\n\u001b[1;32m     <a href='vscode-notebook-cell:/Users/moosavi/Dropbox%20%28LSMO%29/Projects/heat_capacity/app/tools-cp-porousmat/examples/example_ML_training_250K.ipynb#ch0000003?line=12'>13</a>\u001b[0m pipe_xgb\u001b[39m.\u001b[39mset_params(xgb__max_depth \u001b[39m=\u001b[39m best_params[\u001b[39m\"\u001b[39m\u001b[39mxgb__max_depth\u001b[39m\u001b[39m\"\u001b[39m])\n\u001b[1;32m     <a href='vscode-notebook-cell:/Users/moosavi/Dropbox%20%28LSMO%29/Projects/heat_capacity/app/tools-cp-porousmat/examples/example_ML_training_250K.ipynb#ch0000003?line=13'>14</a>\u001b[0m pipe_xgb\u001b[39m.\u001b[39mset_params(xgb__learning_rate \u001b[39m=\u001b[39m best_params[\u001b[39m\"\u001b[39m\u001b[39mxgb__learning_rate\u001b[39m\u001b[39m\"\u001b[39m])\n\u001b[0;32m---> <a href='vscode-notebook-cell:/Users/moosavi/Dropbox%20%28LSMO%29/Projects/heat_capacity/app/tools-cp-porousmat/examples/example_ML_training_250K.ipynb#ch0000003?line=15'>16</a>\u001b[0m pipe_xgb\u001b[39m.\u001b[39;49mfit(X[FEATURES], X[TARGET])\n\u001b[1;32m     <a href='vscode-notebook-cell:/Users/moosavi/Dropbox%20%28LSMO%29/Projects/heat_capacity/app/tools-cp-porousmat/examples/example_ML_training_250K.ipynb#ch0000003?line=17'>18</a>\u001b[0m \u001b[39mreturn\u001b[39;00m pipe_xgb\n",
      "File \u001b[0;32m~/miniconda3/envs/cpenv/lib/python3.9/site-packages/sklearn/pipeline.py:394\u001b[0m, in \u001b[0;36mPipeline.fit\u001b[0;34m(self, X, y, **fit_params)\u001b[0m\n\u001b[1;32m    <a href='file:///Users/moosavi/miniconda3/envs/cpenv/lib/python3.9/site-packages/sklearn/pipeline.py?line=391'>392</a>\u001b[0m     \u001b[39mif\u001b[39;00m \u001b[39mself\u001b[39m\u001b[39m.\u001b[39m_final_estimator \u001b[39m!=\u001b[39m \u001b[39m\"\u001b[39m\u001b[39mpassthrough\u001b[39m\u001b[39m\"\u001b[39m:\n\u001b[1;32m    <a href='file:///Users/moosavi/miniconda3/envs/cpenv/lib/python3.9/site-packages/sklearn/pipeline.py?line=392'>393</a>\u001b[0m         fit_params_last_step \u001b[39m=\u001b[39m fit_params_steps[\u001b[39mself\u001b[39m\u001b[39m.\u001b[39msteps[\u001b[39m-\u001b[39m\u001b[39m1\u001b[39m][\u001b[39m0\u001b[39m]]\n\u001b[0;32m--> <a href='file:///Users/moosavi/miniconda3/envs/cpenv/lib/python3.9/site-packages/sklearn/pipeline.py?line=393'>394</a>\u001b[0m         \u001b[39mself\u001b[39;49m\u001b[39m.\u001b[39;49m_final_estimator\u001b[39m.\u001b[39;49mfit(Xt, y, \u001b[39m*\u001b[39;49m\u001b[39m*\u001b[39;49mfit_params_last_step)\n\u001b[1;32m    <a href='file:///Users/moosavi/miniconda3/envs/cpenv/lib/python3.9/site-packages/sklearn/pipeline.py?line=395'>396</a>\u001b[0m \u001b[39mreturn\u001b[39;00m \u001b[39mself\u001b[39m\n",
      "File \u001b[0;32m~/miniconda3/envs/cpenv/lib/python3.9/site-packages/xgboost/core.py:506\u001b[0m, in \u001b[0;36m_deprecate_positional_args.<locals>.inner_f\u001b[0;34m(*args, **kwargs)\u001b[0m\n\u001b[1;32m    <a href='file:///Users/moosavi/miniconda3/envs/cpenv/lib/python3.9/site-packages/xgboost/core.py?line=503'>504</a>\u001b[0m \u001b[39mfor\u001b[39;00m k, arg \u001b[39min\u001b[39;00m \u001b[39mzip\u001b[39m(sig\u001b[39m.\u001b[39mparameters, args):\n\u001b[1;32m    <a href='file:///Users/moosavi/miniconda3/envs/cpenv/lib/python3.9/site-packages/xgboost/core.py?line=504'>505</a>\u001b[0m     kwargs[k] \u001b[39m=\u001b[39m arg\n\u001b[0;32m--> <a href='file:///Users/moosavi/miniconda3/envs/cpenv/lib/python3.9/site-packages/xgboost/core.py?line=505'>506</a>\u001b[0m \u001b[39mreturn\u001b[39;00m f(\u001b[39m*\u001b[39;49m\u001b[39m*\u001b[39;49mkwargs)\n",
      "File \u001b[0;32m~/miniconda3/envs/cpenv/lib/python3.9/site-packages/xgboost/sklearn.py:789\u001b[0m, in \u001b[0;36mXGBModel.fit\u001b[0;34m(self, X, y, sample_weight, base_margin, eval_set, eval_metric, early_stopping_rounds, verbose, xgb_model, sample_weight_eval_set, base_margin_eval_set, feature_weights, callbacks)\u001b[0m\n\u001b[1;32m    <a href='file:///Users/moosavi/miniconda3/envs/cpenv/lib/python3.9/site-packages/xgboost/sklearn.py?line=785'>786</a>\u001b[0m     obj \u001b[39m=\u001b[39m \u001b[39mNone\u001b[39;00m\n\u001b[1;32m    <a href='file:///Users/moosavi/miniconda3/envs/cpenv/lib/python3.9/site-packages/xgboost/sklearn.py?line=787'>788</a>\u001b[0m model, feval, params \u001b[39m=\u001b[39m \u001b[39mself\u001b[39m\u001b[39m.\u001b[39m_configure_fit(xgb_model, eval_metric, params)\n\u001b[0;32m--> <a href='file:///Users/moosavi/miniconda3/envs/cpenv/lib/python3.9/site-packages/xgboost/sklearn.py?line=788'>789</a>\u001b[0m \u001b[39mself\u001b[39m\u001b[39m.\u001b[39m_Booster \u001b[39m=\u001b[39m train(\n\u001b[1;32m    <a href='file:///Users/moosavi/miniconda3/envs/cpenv/lib/python3.9/site-packages/xgboost/sklearn.py?line=789'>790</a>\u001b[0m     params,\n\u001b[1;32m    <a href='file:///Users/moosavi/miniconda3/envs/cpenv/lib/python3.9/site-packages/xgboost/sklearn.py?line=790'>791</a>\u001b[0m     train_dmatrix,\n\u001b[1;32m    <a href='file:///Users/moosavi/miniconda3/envs/cpenv/lib/python3.9/site-packages/xgboost/sklearn.py?line=791'>792</a>\u001b[0m     \u001b[39mself\u001b[39;49m\u001b[39m.\u001b[39;49mget_num_boosting_rounds(),\n\u001b[1;32m    <a href='file:///Users/moosavi/miniconda3/envs/cpenv/lib/python3.9/site-packages/xgboost/sklearn.py?line=792'>793</a>\u001b[0m     evals\u001b[39m=\u001b[39;49mevals,\n\u001b[1;32m    <a href='file:///Users/moosavi/miniconda3/envs/cpenv/lib/python3.9/site-packages/xgboost/sklearn.py?line=793'>794</a>\u001b[0m     early_stopping_rounds\u001b[39m=\u001b[39;49mearly_stopping_rounds,\n\u001b[1;32m    <a href='file:///Users/moosavi/miniconda3/envs/cpenv/lib/python3.9/site-packages/xgboost/sklearn.py?line=794'>795</a>\u001b[0m     evals_result\u001b[39m=\u001b[39;49mevals_result,\n\u001b[1;32m    <a href='file:///Users/moosavi/miniconda3/envs/cpenv/lib/python3.9/site-packages/xgboost/sklearn.py?line=795'>796</a>\u001b[0m     obj\u001b[39m=\u001b[39;49mobj,\n\u001b[1;32m    <a href='file:///Users/moosavi/miniconda3/envs/cpenv/lib/python3.9/site-packages/xgboost/sklearn.py?line=796'>797</a>\u001b[0m     feval\u001b[39m=\u001b[39;49mfeval,\n\u001b[1;32m    <a href='file:///Users/moosavi/miniconda3/envs/cpenv/lib/python3.9/site-packages/xgboost/sklearn.py?line=797'>798</a>\u001b[0m     verbose_eval\u001b[39m=\u001b[39;49mverbose,\n\u001b[1;32m    <a href='file:///Users/moosavi/miniconda3/envs/cpenv/lib/python3.9/site-packages/xgboost/sklearn.py?line=798'>799</a>\u001b[0m     xgb_model\u001b[39m=\u001b[39;49mmodel,\n\u001b[1;32m    <a href='file:///Users/moosavi/miniconda3/envs/cpenv/lib/python3.9/site-packages/xgboost/sklearn.py?line=799'>800</a>\u001b[0m     callbacks\u001b[39m=\u001b[39;49mcallbacks,\n\u001b[1;32m    <a href='file:///Users/moosavi/miniconda3/envs/cpenv/lib/python3.9/site-packages/xgboost/sklearn.py?line=800'>801</a>\u001b[0m )\n\u001b[1;32m    <a href='file:///Users/moosavi/miniconda3/envs/cpenv/lib/python3.9/site-packages/xgboost/sklearn.py?line=802'>803</a>\u001b[0m \u001b[39mself\u001b[39m\u001b[39m.\u001b[39m_set_evaluation_result(evals_result)\n\u001b[1;32m    <a href='file:///Users/moosavi/miniconda3/envs/cpenv/lib/python3.9/site-packages/xgboost/sklearn.py?line=803'>804</a>\u001b[0m \u001b[39mreturn\u001b[39;00m \u001b[39mself\u001b[39m\n",
      "File \u001b[0;32m~/miniconda3/envs/cpenv/lib/python3.9/site-packages/xgboost/training.py:188\u001b[0m, in \u001b[0;36mtrain\u001b[0;34m(params, dtrain, num_boost_round, evals, obj, feval, maximize, early_stopping_rounds, evals_result, verbose_eval, xgb_model, callbacks)\u001b[0m\n\u001b[1;32m    <a href='file:///Users/moosavi/miniconda3/envs/cpenv/lib/python3.9/site-packages/xgboost/training.py?line=114'>115</a>\u001b[0m \u001b[39mdef\u001b[39;00m \u001b[39mtrain\u001b[39m(params, dtrain, num_boost_round\u001b[39m=\u001b[39m\u001b[39m10\u001b[39m, evals\u001b[39m=\u001b[39m(), obj\u001b[39m=\u001b[39m\u001b[39mNone\u001b[39;00m, feval\u001b[39m=\u001b[39m\u001b[39mNone\u001b[39;00m,\n\u001b[1;32m    <a href='file:///Users/moosavi/miniconda3/envs/cpenv/lib/python3.9/site-packages/xgboost/training.py?line=115'>116</a>\u001b[0m           maximize\u001b[39m=\u001b[39m\u001b[39mNone\u001b[39;00m, early_stopping_rounds\u001b[39m=\u001b[39m\u001b[39mNone\u001b[39;00m, evals_result\u001b[39m=\u001b[39m\u001b[39mNone\u001b[39;00m,\n\u001b[1;32m    <a href='file:///Users/moosavi/miniconda3/envs/cpenv/lib/python3.9/site-packages/xgboost/training.py?line=116'>117</a>\u001b[0m           verbose_eval\u001b[39m=\u001b[39m\u001b[39mTrue\u001b[39;00m, xgb_model\u001b[39m=\u001b[39m\u001b[39mNone\u001b[39;00m, callbacks\u001b[39m=\u001b[39m\u001b[39mNone\u001b[39;00m):\n\u001b[1;32m    <a href='file:///Users/moosavi/miniconda3/envs/cpenv/lib/python3.9/site-packages/xgboost/training.py?line=117'>118</a>\u001b[0m     \u001b[39m# pylint: disable=too-many-statements,too-many-branches, attribute-defined-outside-init\u001b[39;00m\n\u001b[1;32m    <a href='file:///Users/moosavi/miniconda3/envs/cpenv/lib/python3.9/site-packages/xgboost/training.py?line=118'>119</a>\u001b[0m     \u001b[39m\"\"\"Train a booster with given parameters.\u001b[39;00m\n\u001b[1;32m    <a href='file:///Users/moosavi/miniconda3/envs/cpenv/lib/python3.9/site-packages/xgboost/training.py?line=119'>120</a>\u001b[0m \n\u001b[1;32m    <a href='file:///Users/moosavi/miniconda3/envs/cpenv/lib/python3.9/site-packages/xgboost/training.py?line=120'>121</a>\u001b[0m \u001b[39m    Parameters\u001b[39;00m\n\u001b[0;32m   (...)\u001b[0m\n\u001b[1;32m    <a href='file:///Users/moosavi/miniconda3/envs/cpenv/lib/python3.9/site-packages/xgboost/training.py?line=185'>186</a>\u001b[0m \u001b[39m    Booster : a trained booster model\u001b[39;00m\n\u001b[1;32m    <a href='file:///Users/moosavi/miniconda3/envs/cpenv/lib/python3.9/site-packages/xgboost/training.py?line=186'>187</a>\u001b[0m \u001b[39m    \"\"\"\u001b[39;00m\n\u001b[0;32m--> <a href='file:///Users/moosavi/miniconda3/envs/cpenv/lib/python3.9/site-packages/xgboost/training.py?line=187'>188</a>\u001b[0m     bst \u001b[39m=\u001b[39m _train_internal(params, dtrain,\n\u001b[1;32m    <a href='file:///Users/moosavi/miniconda3/envs/cpenv/lib/python3.9/site-packages/xgboost/training.py?line=188'>189</a>\u001b[0m                           num_boost_round\u001b[39m=\u001b[39;49mnum_boost_round,\n\u001b[1;32m    <a href='file:///Users/moosavi/miniconda3/envs/cpenv/lib/python3.9/site-packages/xgboost/training.py?line=189'>190</a>\u001b[0m                           evals\u001b[39m=\u001b[39;49mevals,\n\u001b[1;32m    <a href='file:///Users/moosavi/miniconda3/envs/cpenv/lib/python3.9/site-packages/xgboost/training.py?line=190'>191</a>\u001b[0m                           obj\u001b[39m=\u001b[39;49mobj, feval\u001b[39m=\u001b[39;49mfeval,\n\u001b[1;32m    <a href='file:///Users/moosavi/miniconda3/envs/cpenv/lib/python3.9/site-packages/xgboost/training.py?line=191'>192</a>\u001b[0m                           xgb_model\u001b[39m=\u001b[39;49mxgb_model, callbacks\u001b[39m=\u001b[39;49mcallbacks,\n\u001b[1;32m    <a href='file:///Users/moosavi/miniconda3/envs/cpenv/lib/python3.9/site-packages/xgboost/training.py?line=192'>193</a>\u001b[0m                           verbose_eval\u001b[39m=\u001b[39;49mverbose_eval,\n\u001b[1;32m    <a href='file:///Users/moosavi/miniconda3/envs/cpenv/lib/python3.9/site-packages/xgboost/training.py?line=193'>194</a>\u001b[0m                           evals_result\u001b[39m=\u001b[39;49mevals_result,\n\u001b[1;32m    <a href='file:///Users/moosavi/miniconda3/envs/cpenv/lib/python3.9/site-packages/xgboost/training.py?line=194'>195</a>\u001b[0m                           maximize\u001b[39m=\u001b[39;49mmaximize,\n\u001b[1;32m    <a href='file:///Users/moosavi/miniconda3/envs/cpenv/lib/python3.9/site-packages/xgboost/training.py?line=195'>196</a>\u001b[0m                           early_stopping_rounds\u001b[39m=\u001b[39;49mearly_stopping_rounds)\n\u001b[1;32m    <a href='file:///Users/moosavi/miniconda3/envs/cpenv/lib/python3.9/site-packages/xgboost/training.py?line=196'>197</a>\u001b[0m     \u001b[39mreturn\u001b[39;00m bst\n",
      "File \u001b[0;32m~/miniconda3/envs/cpenv/lib/python3.9/site-packages/xgboost/training.py:81\u001b[0m, in \u001b[0;36m_train_internal\u001b[0;34m(params, dtrain, num_boost_round, evals, obj, feval, xgb_model, callbacks, evals_result, maximize, verbose_eval, early_stopping_rounds)\u001b[0m\n\u001b[1;32m     <a href='file:///Users/moosavi/miniconda3/envs/cpenv/lib/python3.9/site-packages/xgboost/training.py?line=78'>79</a>\u001b[0m \u001b[39mif\u001b[39;00m callbacks\u001b[39m.\u001b[39mbefore_iteration(bst, i, dtrain, evals):\n\u001b[1;32m     <a href='file:///Users/moosavi/miniconda3/envs/cpenv/lib/python3.9/site-packages/xgboost/training.py?line=79'>80</a>\u001b[0m     \u001b[39mbreak\u001b[39;00m\n\u001b[0;32m---> <a href='file:///Users/moosavi/miniconda3/envs/cpenv/lib/python3.9/site-packages/xgboost/training.py?line=80'>81</a>\u001b[0m bst\u001b[39m.\u001b[39;49mupdate(dtrain, i, obj)\n\u001b[1;32m     <a href='file:///Users/moosavi/miniconda3/envs/cpenv/lib/python3.9/site-packages/xgboost/training.py?line=81'>82</a>\u001b[0m \u001b[39mif\u001b[39;00m callbacks\u001b[39m.\u001b[39mafter_iteration(bst, i, dtrain, evals):\n\u001b[1;32m     <a href='file:///Users/moosavi/miniconda3/envs/cpenv/lib/python3.9/site-packages/xgboost/training.py?line=82'>83</a>\u001b[0m     \u001b[39mbreak\u001b[39;00m\n",
      "File \u001b[0;32m~/miniconda3/envs/cpenv/lib/python3.9/site-packages/xgboost/core.py:1680\u001b[0m, in \u001b[0;36mBooster.update\u001b[0;34m(self, dtrain, iteration, fobj)\u001b[0m\n\u001b[1;32m   <a href='file:///Users/moosavi/miniconda3/envs/cpenv/lib/python3.9/site-packages/xgboost/core.py?line=1676'>1677</a>\u001b[0m \u001b[39mself\u001b[39m\u001b[39m.\u001b[39m_validate_features(dtrain)\n\u001b[1;32m   <a href='file:///Users/moosavi/miniconda3/envs/cpenv/lib/python3.9/site-packages/xgboost/core.py?line=1678'>1679</a>\u001b[0m \u001b[39mif\u001b[39;00m fobj \u001b[39mis\u001b[39;00m \u001b[39mNone\u001b[39;00m:\n\u001b[0;32m-> <a href='file:///Users/moosavi/miniconda3/envs/cpenv/lib/python3.9/site-packages/xgboost/core.py?line=1679'>1680</a>\u001b[0m     _check_call(_LIB\u001b[39m.\u001b[39;49mXGBoosterUpdateOneIter(\u001b[39mself\u001b[39;49m\u001b[39m.\u001b[39;49mhandle,\n\u001b[1;32m   <a href='file:///Users/moosavi/miniconda3/envs/cpenv/lib/python3.9/site-packages/xgboost/core.py?line=1680'>1681</a>\u001b[0m                                             ctypes\u001b[39m.\u001b[39;49mc_int(iteration),\n\u001b[1;32m   <a href='file:///Users/moosavi/miniconda3/envs/cpenv/lib/python3.9/site-packages/xgboost/core.py?line=1681'>1682</a>\u001b[0m                                             dtrain\u001b[39m.\u001b[39;49mhandle))\n\u001b[1;32m   <a href='file:///Users/moosavi/miniconda3/envs/cpenv/lib/python3.9/site-packages/xgboost/core.py?line=1682'>1683</a>\u001b[0m \u001b[39melse\u001b[39;00m:\n\u001b[1;32m   <a href='file:///Users/moosavi/miniconda3/envs/cpenv/lib/python3.9/site-packages/xgboost/core.py?line=1683'>1684</a>\u001b[0m     pred \u001b[39m=\u001b[39m \u001b[39mself\u001b[39m\u001b[39m.\u001b[39mpredict(dtrain, output_margin\u001b[39m=\u001b[39m\u001b[39mTrue\u001b[39;00m, training\u001b[39m=\u001b[39m\u001b[39mTrue\u001b[39;00m)\n",
      "\u001b[0;31mKeyboardInterrupt\u001b[0m: "
     ]
    }
   ],
   "source": [
    "models = []\n",
    "for i,X in enumerate(Xs):\n",
    "    model = xgb_model(xgb_hyperparams, X, FEATURES, TARGET)\n",
    "    models.append(model)\n",
    "p = pathlib.Path(\"ensemble_models_{}/{}\".format(flag,temperature))\n",
    "p.mkdir(parents=True, exist_ok=True)\n",
    "for i,model in enumerate(models):\n",
    "    joblib.dump(model,\"ensemble_models_{}/{}/model_{}\".format(flag,temperature,i))"
   ]
  },
  {
   "cell_type": "markdown",
   "metadata": {},
   "source": [
    "## Testing the model"
   ]
  },
  {
   "cell_type": "markdown",
   "metadata": {},
   "source": [
    "### Train set"
   ]
  },
  {
   "cell_type": "markdown",
   "metadata": {},
   "source": [
    "sites in trainset"
   ]
  },
  {
   "cell_type": "code",
   "execution_count": null,
   "metadata": {},
   "outputs": [
    {
     "data": {
      "text/plain": [
       "<matplotlib.collections.PathCollection at 0x156ac4820>"
      ]
     },
     "execution_count": 14,
     "metadata": {},
     "output_type": "execute_result"
    },
    {
     "data": {
      "image/png": "[encoded data removed]",
      "text/plain": [
       "<Figure size 432x288 with 1 Axes>"
      ]
     },
     "metadata": {
      "needs_background": "light"
     },
     "output_type": "display_data"
    }
   ],
   "source": [
    "predictions = []\n",
    "for model in models:\n",
    "    prediction = model.predict(df_train_stratified[FEATURES])\n",
    "    predictions.append(prediction)\n",
    "    \n",
    "predictions = np.array(predictions)\n",
    "plt.errorbar(df_train_stratified[TARGET],np.mean(predictions,axis = 0), yerr=np.std(predictions,axis = 0), linestyle=\"None\")\n",
    "plt.scatter(df_train_stratified[TARGET],np.mean(predictions,axis = 0))"
   ]
  },
  {
   "cell_type": "markdown",
   "metadata": {},
   "source": [
    "sites that were not in the training set but in the training structures"
   ]
  },
  {
   "cell_type": "code",
   "execution_count": null,
   "metadata": {},
   "outputs": [
    {
     "data": {
      "text/plain": [
       "<matplotlib.collections.PathCollection at 0x156c901c0>"
      ]
     },
     "execution_count": 15,
     "metadata": {},
     "output_type": "execute_result"
    },
    {
     "data": {
      "image/png": "[encoded data removed]",
      "text/plain": [
       "<Figure size 432x288 with 1 Axes>"
      ]
     },
     "metadata": {
      "needs_background": "light"
     },
     "output_type": "display_data"
    }
   ],
   "source": [
    "predictions = []\n",
    "for model in models:\n",
    "    prediction = model.predict(df_test_stratified[FEATURES])\n",
    "    predictions.append(prediction)\n",
    "    \n",
    "predictions = np.array(predictions)\n",
    "plt.errorbar(df_test_stratified[TARGET],np.mean(predictions,axis = 0), yerr=np.std(predictions,axis = 0), linestyle=\"None\")\n",
    "plt.scatter(df_test_stratified[TARGET],np.mean(predictions,axis = 0))"
   ]
  },
  {
   "cell_type": "markdown",
   "metadata": {},
   "source": [
    "### Test set"
   ]
  },
  {
   "cell_type": "code",
   "execution_count": null,
   "metadata": {},
   "outputs": [
    {
     "data": {
      "text/plain": [
       "<matplotlib.collections.PathCollection at 0x16bc07370>"
      ]
     },
     "execution_count": 16,
     "metadata": {},
     "output_type": "execute_result"
    },
    {
     "data": {
      "image/png": "[encoded data removed]",
      "text/plain": [
       "<Figure size 432x288 with 1 Axes>"
      ]
     },
     "metadata": {
      "needs_background": "light"
     },
     "output_type": "display_data"
    }
   ],
   "source": [
    "predictions_new = []\n",
    "for model in models:\n",
    "    prediction = model.predict(df_site_test[FEATURES])\n",
    "    predictions_new.append(prediction)\n",
    "    \n",
    "predictions_new = np.array(predictions_new)\n",
    "plt.errorbar(df_site_test[TARGET],np.mean(predictions_new,axis = 0), yerr=np.std(predictions_new,axis = 0), linestyle=\"None\")\n",
    "plt.scatter(df_site_test[TARGET],np.mean(predictions_new,axis = 0))"
   ]
  },
  {
   "cell_type": "code",
   "execution_count": null,
   "metadata": {},
   "outputs": [],
   "source": [
    "Cvs = predict_Cv_ensemble_dataset(models=models, FEATURES=FEATURES, df_features=df_site_test, temperature=temperature)"
   ]
  },
  {
   "cell_type": "code",
   "execution_count": null,
   "metadata": {},
   "outputs": [
    {
     "data": {
      "text/html": [
       "<div>\n",
       "<style scoped>\n",
       "    .dataframe tbody tr th:only-of-type {\n",
       "        vertical-align: middle;\n",
       "    }\n",
       "\n",
       "    .dataframe tbody tr th {\n",
       "        vertical-align: top;\n",
       "    }\n",
       "\n",
       "    .dataframe thead th {\n",
       "        text-align: right;\n",
       "    }\n",
       "</style>\n",
       "<table border=\"1\" class=\"dataframe\">\n",
       "  <thead>\n",
       "    <tr style=\"text-align: right;\">\n",
       "      <th></th>\n",
       "      <th>Unnamed: 0</th>\n",
       "      <th>mass</th>\n",
       "      <th>atom_types</th>\n",
       "      <th>Cv_molar_250.00</th>\n",
       "      <th>Cv_gravimetric_250.00</th>\n",
       "      <th>Cv_molar_275.00</th>\n",
       "      <th>Cv_gravimetric_275.00</th>\n",
       "      <th>Cv_molar_300.00</th>\n",
       "      <th>Cv_gravimetric_300.00</th>\n",
       "      <th>Cv_molar_325.00</th>\n",
       "      <th>Cv_gravimetric_325.00</th>\n",
       "      <th>Cv_molar_350.00</th>\n",
       "      <th>Cv_gravimetric_350.00</th>\n",
       "      <th>Cv_molar_375.00</th>\n",
       "      <th>Cv_gravimetric_375.00</th>\n",
       "      <th>Cv_molar_400.00</th>\n",
       "      <th>Cv_gravimetric_400.00</th>\n",
       "      <th>structure_type</th>\n",
       "    </tr>\n",
       "  </thead>\n",
       "  <tbody>\n",
       "    <tr>\n",
       "      <th>0</th>\n",
       "      <td>12022N2</td>\n",
       "      <td>2283.09632</td>\n",
       "      <td>{1.0, 5.0, 6.0, 7.0, 8.0, 30.0}</td>\n",
       "      <td>8.286131</td>\n",
       "      <td>0.791196</td>\n",
       "      <td>9.069603</td>\n",
       "      <td>0.866005</td>\n",
       "      <td>9.830723</td>\n",
       "      <td>0.938680</td>\n",
       "      <td>10.564779</td>\n",
       "      <td>1.008771</td>\n",
       "      <td>11.268213</td>\n",
       "      <td>1.075938</td>\n",
       "      <td>11.938615</td>\n",
       "      <td>1.139951</td>\n",
       "      <td>12.574627</td>\n",
       "      <td>1.200680</td>\n",
       "      <td>COF</td>\n",
       "    </tr>\n",
       "    <tr>\n",
       "      <th>1</th>\n",
       "      <td>13180N3</td>\n",
       "      <td>872.83788</td>\n",
       "      <td>{8.0, 1.0, 6.0, 7.0}</td>\n",
       "      <td>7.477927</td>\n",
       "      <td>0.839602</td>\n",
       "      <td>8.240734</td>\n",
       "      <td>0.925248</td>\n",
       "      <td>8.987792</td>\n",
       "      <td>1.009126</td>\n",
       "      <td>9.713325</td>\n",
       "      <td>1.090587</td>\n",
       "      <td>10.412548</td>\n",
       "      <td>1.169094</td>\n",
       "      <td>11.081902</td>\n",
       "      <td>1.244248</td>\n",
       "      <td>11.719076</td>\n",
       "      <td>1.315788</td>\n",
       "      <td>COF</td>\n",
       "    </tr>\n",
       "    <tr>\n",
       "      <th>2</th>\n",
       "      <td>13181N3</td>\n",
       "      <td>904.98748</td>\n",
       "      <td>{1.0, 6.0, 7.0, 8.0, 14.0}</td>\n",
       "      <td>8.020889</td>\n",
       "      <td>0.868572</td>\n",
       "      <td>8.757656</td>\n",
       "      <td>0.948356</td>\n",
       "      <td>9.478630</td>\n",
       "      <td>1.026429</td>\n",
       "      <td>10.178462</td>\n",
       "      <td>1.102213</td>\n",
       "      <td>10.852674</td>\n",
       "      <td>1.175223</td>\n",
       "      <td>11.497930</td>\n",
       "      <td>1.245097</td>\n",
       "      <td>12.112071</td>\n",
       "      <td>1.311602</td>\n",
       "      <td>COF</td>\n",
       "    </tr>\n",
       "    <tr>\n",
       "      <th>3</th>\n",
       "      <td>16050N2</td>\n",
       "      <td>2029.42960</td>\n",
       "      <td>{1.0, 5.0, 6.0, 7.0, 8.0, 28.0}</td>\n",
       "      <td>7.862489</td>\n",
       "      <td>0.736105</td>\n",
       "      <td>8.673619</td>\n",
       "      <td>0.812045</td>\n",
       "      <td>9.461410</td>\n",
       "      <td>0.885800</td>\n",
       "      <td>10.220993</td>\n",
       "      <td>0.956914</td>\n",
       "      <td>10.948731</td>\n",
       "      <td>1.025046</td>\n",
       "      <td>11.642146</td>\n",
       "      <td>1.089965</td>\n",
       "      <td>12.299814</td>\n",
       "      <td>1.151538</td>\n",
       "      <td>COF</td>\n",
       "    </tr>\n",
       "    <tr>\n",
       "      <th>4</th>\n",
       "      <td>18150N2</td>\n",
       "      <td>1672.45428</td>\n",
       "      <td>{1.0, 6.0, 7.0, 8.0, 17.0}</td>\n",
       "      <td>9.720576</td>\n",
       "      <td>0.755581</td>\n",
       "      <td>10.451999</td>\n",
       "      <td>0.812435</td>\n",
       "      <td>11.151413</td>\n",
       "      <td>0.866800</td>\n",
       "      <td>11.819037</td>\n",
       "      <td>0.918695</td>\n",
       "      <td>12.454745</td>\n",
       "      <td>0.968108</td>\n",
       "      <td>13.058391</td>\n",
       "      <td>1.015030</td>\n",
       "      <td>13.630034</td>\n",
       "      <td>1.059464</td>\n",
       "      <td>COF</td>\n",
       "    </tr>\n",
       "  </tbody>\n",
       "</table>\n",
       "</div>"
      ],
      "text/plain": [
       "  Unnamed: 0        mass                       atom_types  Cv_molar_250.00  \\\n",
       "0    12022N2  2283.09632  {1.0, 5.0, 6.0, 7.0, 8.0, 30.0}         8.286131   \n",
       "1    13180N3   872.83788             {8.0, 1.0, 6.0, 7.0}         7.477927   \n",
       "2    13181N3   904.98748       {1.0, 6.0, 7.0, 8.0, 14.0}         8.020889   \n",
       "3    16050N2  2029.42960  {1.0, 5.0, 6.0, 7.0, 8.0, 28.0}         7.862489   \n",
       "4    18150N2  1672.45428       {1.0, 6.0, 7.0, 8.0, 17.0}         9.720576   \n",
       "\n",
       "   Cv_gravimetric_250.00  Cv_molar_275.00  Cv_gravimetric_275.00  \\\n",
       "0               0.791196         9.069603               0.866005   \n",
       "1               0.839602         8.240734               0.925248   \n",
       "2               0.868572         8.757656               0.948356   \n",
       "3               0.736105         8.673619               0.812045   \n",
       "4               0.755581        10.451999               0.812435   \n",
       "\n",
       "   Cv_molar_300.00  Cv_gravimetric_300.00  Cv_molar_325.00  \\\n",
       "0         9.830723               0.938680        10.564779   \n",
       "1         8.987792               1.009126         9.713325   \n",
       "2         9.478630               1.026429        10.178462   \n",
       "3         9.461410               0.885800        10.220993   \n",
       "4        11.151413               0.866800        11.819037   \n",
       "\n",
       "   Cv_gravimetric_325.00  Cv_molar_350.00  Cv_gravimetric_350.00  \\\n",
       "0               1.008771        11.268213               1.075938   \n",
       "1               1.090587        10.412548               1.169094   \n",
       "2               1.102213        10.852674               1.175223   \n",
       "3               0.956914        10.948731               1.025046   \n",
       "4               0.918695        12.454745               0.968108   \n",
       "\n",
       "   Cv_molar_375.00  Cv_gravimetric_375.00  Cv_molar_400.00  \\\n",
       "0        11.938615               1.139951        12.574627   \n",
       "1        11.081902               1.244248        11.719076   \n",
       "2        11.497930               1.245097        12.112071   \n",
       "3        11.642146               1.089965        12.299814   \n",
       "4        13.058391               1.015030        13.630034   \n",
       "\n",
       "   Cv_gravimetric_400.00 structure_type  \n",
       "0               1.200680            COF  \n",
       "1               1.315788            COF  \n",
       "2               1.311602            COF  \n",
       "3               1.151538            COF  \n",
       "4               1.059464            COF  "
      ]
     },
     "execution_count": 58,
     "metadata": {},
     "output_type": "execute_result"
    }
   ],
   "source": [
    "df_structures.head()"
   ]
  },
  {
   "cell_type": "code",
   "execution_count": null,
   "metadata": {},
   "outputs": [],
   "source": [
    "for ent in Cvs:\n",
    "    ent[\"Cv_gravimetric\"]=df_structures.loc[df_structures[\"Unnamed: 0\"]==ent[\"name\"]][f\"Cv_gravimetric_{temperature}\"].values[0]"
   ]
  },
  {
   "cell_type": "code",
   "execution_count": null,
   "metadata": {},
   "outputs": [],
   "source": [
    "df_Cvs = pd.DataFrame(Cvs)"
   ]
  },
  {
   "cell_type": "code",
   "execution_count": null,
   "metadata": {},
   "outputs": [
    {
     "data": {
      "text/html": [
       "<div>\n",
       "<style scoped>\n",
       "    .dataframe tbody tr th:only-of-type {\n",
       "        vertical-align: middle;\n",
       "    }\n",
       "\n",
       "    .dataframe tbody tr th {\n",
       "        vertical-align: top;\n",
       "    }\n",
       "\n",
       "    .dataframe thead th {\n",
       "        text-align: right;\n",
       "    }\n",
       "</style>\n",
       "<table border=\"1\" class=\"dataframe\">\n",
       "  <thead>\n",
       "    <tr style=\"text-align: right;\">\n",
       "      <th></th>\n",
       "      <th>name</th>\n",
       "      <th>Cv_gravimetric_250.00_mean</th>\n",
       "      <th>Cv_gravimetric_250.00_std</th>\n",
       "      <th>Cv_molar_250.00_mean</th>\n",
       "      <th>Cv_molar_250.00_std</th>\n",
       "      <th>Cv_gravimetric</th>\n",
       "    </tr>\n",
       "  </thead>\n",
       "  <tbody>\n",
       "    <tr>\n",
       "      <th>0</th>\n",
       "      <td>ITT</td>\n",
       "      <td>0.643963</td>\n",
       "      <td>0.002503</td>\n",
       "      <td>12.897358</td>\n",
       "      <td>0.050134</td>\n",
       "      <td>0.666480</td>\n",
       "    </tr>\n",
       "    <tr>\n",
       "      <th>1</th>\n",
       "      <td>NPT</td>\n",
       "      <td>0.629197</td>\n",
       "      <td>0.006899</td>\n",
       "      <td>12.601625</td>\n",
       "      <td>0.138179</td>\n",
       "      <td>0.603253</td>\n",
       "    </tr>\n",
       "    <tr>\n",
       "      <th>2</th>\n",
       "      <td>RWY</td>\n",
       "      <td>0.628345</td>\n",
       "      <td>0.010427</td>\n",
       "      <td>12.584565</td>\n",
       "      <td>0.208832</td>\n",
       "      <td>0.601828</td>\n",
       "    </tr>\n",
       "    <tr>\n",
       "      <th>3</th>\n",
       "      <td>SAS</td>\n",
       "      <td>0.648401</td>\n",
       "      <td>0.006572</td>\n",
       "      <td>12.986230</td>\n",
       "      <td>0.131625</td>\n",
       "      <td>0.604195</td>\n",
       "    </tr>\n",
       "    <tr>\n",
       "      <th>4</th>\n",
       "      <td>VFI</td>\n",
       "      <td>0.651207</td>\n",
       "      <td>0.004562</td>\n",
       "      <td>13.042448</td>\n",
       "      <td>0.091364</td>\n",
       "      <td>0.663883</td>\n",
       "    </tr>\n",
       "    <tr>\n",
       "      <th>...</th>\n",
       "      <td>...</td>\n",
       "      <td>...</td>\n",
       "      <td>...</td>\n",
       "      <td>...</td>\n",
       "      <td>...</td>\n",
       "      <td>...</td>\n",
       "    </tr>\n",
       "    <tr>\n",
       "      <th>107</th>\n",
       "      <td>RSM1878</td>\n",
       "      <td>0.715236</td>\n",
       "      <td>0.004535</td>\n",
       "      <td>9.562994</td>\n",
       "      <td>0.060641</td>\n",
       "      <td>0.737555</td>\n",
       "    </tr>\n",
       "    <tr>\n",
       "      <th>108</th>\n",
       "      <td>RSM1883</td>\n",
       "      <td>0.687767</td>\n",
       "      <td>0.003486</td>\n",
       "      <td>9.349903</td>\n",
       "      <td>0.047386</td>\n",
       "      <td>0.695340</td>\n",
       "    </tr>\n",
       "    <tr>\n",
       "      <th>109</th>\n",
       "      <td>RSM1885</td>\n",
       "      <td>0.751171</td>\n",
       "      <td>0.006781</td>\n",
       "      <td>7.830025</td>\n",
       "      <td>0.070685</td>\n",
       "      <td>0.765619</td>\n",
       "    </tr>\n",
       "    <tr>\n",
       "      <th>110</th>\n",
       "      <td>RSM1887</td>\n",
       "      <td>0.798503</td>\n",
       "      <td>0.009737</td>\n",
       "      <td>8.749120</td>\n",
       "      <td>0.106684</td>\n",
       "      <td>0.716188</td>\n",
       "    </tr>\n",
       "    <tr>\n",
       "      <th>111</th>\n",
       "      <td>RSM1889</td>\n",
       "      <td>0.749478</td>\n",
       "      <td>0.005704</td>\n",
       "      <td>9.108052</td>\n",
       "      <td>0.069317</td>\n",
       "      <td>0.755087</td>\n",
       "    </tr>\n",
       "  </tbody>\n",
       "</table>\n",
       "<p>112 rows × 6 columns</p>\n",
       "</div>"
      ],
      "text/plain": [
       "        name  Cv_gravimetric_250.00_mean  Cv_gravimetric_250.00_std  \\\n",
       "0        ITT                    0.643963                   0.002503   \n",
       "1        NPT                    0.629197                   0.006899   \n",
       "2        RWY                    0.628345                   0.010427   \n",
       "3        SAS                    0.648401                   0.006572   \n",
       "4        VFI                    0.651207                   0.004562   \n",
       "..       ...                         ...                        ...   \n",
       "107  RSM1878                    0.715236                   0.004535   \n",
       "108  RSM1883                    0.687767                   0.003486   \n",
       "109  RSM1885                    0.751171                   0.006781   \n",
       "110  RSM1887                    0.798503                   0.009737   \n",
       "111  RSM1889                    0.749478                   0.005704   \n",
       "\n",
       "     Cv_molar_250.00_mean  Cv_molar_250.00_std  Cv_gravimetric  \n",
       "0               12.897358             0.050134        0.666480  \n",
       "1               12.601625             0.138179        0.603253  \n",
       "2               12.584565             0.208832        0.601828  \n",
       "3               12.986230             0.131625        0.604195  \n",
       "4               13.042448             0.091364        0.663883  \n",
       "..                    ...                  ...             ...  \n",
       "107              9.562994             0.060641        0.737555  \n",
       "108              9.349903             0.047386        0.695340  \n",
       "109              7.830025             0.070685        0.765619  \n",
       "110              8.749120             0.106684        0.716188  \n",
       "111              9.108052             0.069317        0.755087  \n",
       "\n",
       "[112 rows x 6 columns]"
      ]
     },
     "execution_count": 70,
     "metadata": {},
     "output_type": "execute_result"
    }
   ],
   "source": [
    "df_Cvs"
   ]
  },
  {
   "cell_type": "code",
   "execution_count": null,
   "metadata": {},
   "outputs": [
    {
     "data": {
      "text/plain": [
       "<matplotlib.legend.Legend at 0x17b3a0e50>"
      ]
     },
     "execution_count": 74,
     "metadata": {},
     "output_type": "execute_result"
    },
    {
     "data": {
      "image/png": "[encoded data removed]",
      "text/plain": [
       "<Figure size 432x288 with 1 Axes>"
      ]
     },
     "metadata": {
      "needs_background": "light"
     },
     "output_type": "display_data"
    }
   ],
   "source": [
    "certain=df_Cvs.loc[df_Cvs[f\"Cv_gravimetric_{temperature}_std\"]<0.01]\n",
    "uncertain=df_Cvs.loc[df_Cvs[f\"Cv_gravimetric_{temperature}_std\"]>=0.01]\n",
    "plt.scatter(certain[\"Cv_gravimetric\"],certain[f\"Cv_gravimetric_{temperature}_mean\"],label=\"certain\",c=\"b\")\n",
    "plt.scatter(uncertain[\"Cv_gravimetric\"],uncertain[f\"Cv_gravimetric_{temperature}_mean\"],label=\"uncertain\",c=\"r\")\n",
    "xr=np.linspace(0.9*min(df_Cvs[\"Cv_gravimetric\"]),1.1*max(df_Cvs[\"Cv_gravimetric\"]),100)\n",
    "plt.plot(xr,xr,\"k--\")\n",
    "plt.legend()"
   ]
  },
  {
   "cell_type": "code",
   "execution_count": null,
   "metadata": {},
   "outputs": [],
   "source": []
  }
 ],
 "metadata": {
  "interpreter": {
   "hash": "c7eb91bbbeb531e0d19ad810f88d062b660d8b19ec6ada7962729a6a3794b1c9"
  },
  "kernelspec": {
   "display_name": "Python 3.9.12 ('cpenv')",
   "language": "python",
   "name": "python3"
  },
  "language_info": {
   "codemirror_mode": {
    "name": "ipython",
    "version": 3
   },
   "file_extension": ".py",
   "mimetype": "text/x-python",
   "name": "python",
   "nbconvert_exporter": "python",
   "pygments_lexer": "ipython3",
   "version": "3.9.12"
  },
  "orig_nbformat": 4
 },
 "nbformat": 4,
 "nbformat_minor": 2
}
