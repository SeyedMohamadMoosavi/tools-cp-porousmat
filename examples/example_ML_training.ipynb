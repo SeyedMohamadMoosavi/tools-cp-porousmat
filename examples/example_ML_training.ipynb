{
 "cells": [
  {
   "cell_type": "code",
   "execution_count": 23,
   "metadata": {},
   "outputs": [],
   "source": [
    "import pandas as pd\n",
    "import numpy as np\n",
    "\n",
    "from sklearn.pipeline import Pipeline\n",
    "from sklearn.preprocessing import StandardScaler\n",
    "from sklearn.feature_selection import VarianceThreshold\n",
    "\n",
    "\n",
    "\n",
    "from cp_app.utils import select_structures\n",
    "from cp_app.descriptors import cv_features\n",
    "\n",
    "import warnings\n",
    "warnings.filterwarnings('ignore')"
   ]
  },
  {
   "cell_type": "code",
   "execution_count": 33,
   "metadata": {},
   "outputs": [],
   "source": [
    "FEATURES = cv_features\n",
    "TARGET = 'pCv_300.00' "
   ]
  },
  {
   "cell_type": "code",
   "execution_count": 34,
   "metadata": {},
   "outputs": [],
   "source": [
    "def xgb_model(best_params, X, FEATURES, TARGET):\n",
    "    pipe_xgb = Pipeline(\n",
    "        [\n",
    "       ('scaling', StandardScaler()), \n",
    "       ('variance_threshold', VarianceThreshold(threshold=0.95)),\n",
    "       ('xgb', XGBRegressor())\n",
    "       \n",
    "       ]\n",
    "    )\n",
    "    pipe_xgb.set_params(xgb__reg_lambda = best_params[\"xgb__reg_lambda\"])\n",
    "    pipe_xgb.set_params(xgb__reg_alpha = best_params[\"xgb__reg_alpha\"])\n",
    "    pipe_xgb.set_params(xgb__n_estimators = best_params[\"xgb__n_estimators\"])\n",
    "    pipe_xgb.set_params(xgb__max_depth = best_params[\"xgb__max_depth\"])\n",
    "    pipe_xgb.set_params(xgb__learning_rate = best_params[\"xgb__learning_rate\"])\n",
    "    \n",
    "    pipe_xgb.fit(X[FEATURES], X[TARGET])\n",
    "    \n",
    "    return pipe_xgb\n",
    "    "
   ]
  },
  {
   "cell_type": "markdown",
   "metadata": {},
   "source": [
    "## Data loading, and train test split,..."
   ]
  },
  {
   "cell_type": "code",
   "execution_count": 29,
   "metadata": {},
   "outputs": [],
   "source": [
    "RANDOM_SEED = 3982\n",
    "DATA_DIR = 'data/'\n",
    "DATA_site = 'alldata.csv'\n",
    "DATA_structure = 'structures_data.csv'\n",
    "flag=\"smallML_120_5\" # name_#TrainSize_#EnsembleSize \n",
    "N_ensemble = int(flag.split(\"_\")[2])\n",
    "N_train=int(flag.split(\"_\")[1])"
   ]
  },
  {
   "cell_type": "code",
   "execution_count": 30,
   "metadata": {},
   "outputs": [
    {
     "name": "stdout",
     "output_type": "stream",
     "text": [
      "Total structures:  232\n"
     ]
    }
   ],
   "source": [
    "df_structures=pd.read_csv(DATA_DIR+DATA_structure)\n",
    "df_allsites = pd.read_csv(DATA_DIR+DATA_site)\n",
    "print(\"Total structures: \", len(df_structures))"
   ]
  },
  {
   "cell_type": "markdown",
   "metadata": {},
   "source": [
    "### train test split, making sure we have diverse training set"
   ]
  },
  {
   "cell_type": "code",
   "execution_count": 32,
   "metadata": {},
   "outputs": [
    {
     "name": "stdout",
     "output_type": "stream",
     "text": [
      "120 structures in training set\n",
      "112 structures in test set\n"
     ]
    }
   ],
   "source": [
    "inds=select_structures(N_train,df_structures)\n",
    "df_train_structures=df_structures.loc[df_structures.index.isin(inds)]\n",
    "df_test_structures=df_structures.loc[~df_structures.index.isin(inds)]\n",
    "df_train_structures.to_csv(DATA_DIR+\"train_structures.csv\")\n",
    "df_test_structures.to_csv(DATA_DIR+\"test_structures.csv\")\n",
    "print(\"{} structures in training set\".format(len(df_train_structures)))\n",
    "print(\"{} structures in test set\".format(len(df_test_structures)))"
   ]
  },
  {
   "cell_type": "code",
   "execution_count": 20,
   "metadata": {},
   "outputs": [],
   "source": []
  },
  {
   "cell_type": "code",
   "execution_count": 14,
   "metadata": {},
   "outputs": [],
   "source": [
    "df = df_allsites.loc[df_allsites[\"structure_name\"].isin(df_train_structures[\"Unnamed: 0\"])]\n",
    "df_site_test = df_allsites.loc[~df_allsites[\"structure_name\"].isin(df_train_structures[\"Unnamed: 0\"])]\n",
    "df.to_csv(DATA_DIR+\"site_train.csv\",index=False)"
   ]
  },
  {
   "cell_type": "code",
   "execution_count": 18,
   "metadata": {},
   "outputs": [
    {
     "data": {
      "text/plain": [
       "120"
      ]
     },
     "execution_count": 18,
     "metadata": {},
     "output_type": "execute_result"
    }
   ],
   "source": [
    "len(df[\"structure_name\"].unique())"
   ]
  },
  {
   "cell_type": "code",
   "execution_count": null,
   "metadata": {},
   "outputs": [],
   "source": []
  },
  {
   "cell_type": "code",
   "execution_count": null,
   "metadata": {},
   "outputs": [],
   "source": []
  },
  {
   "cell_type": "code",
   "execution_count": 2,
   "metadata": {},
   "outputs": [],
   "source": [
    "cif_list = glob.glob(\"cifs/*\")"
   ]
  },
  {
   "cell_type": "code",
   "execution_count": 3,
   "metadata": {},
   "outputs": [
    {
     "name": "stderr",
     "output_type": "stream",
     "text": [
      "/Users/mohamad/anaconda3/envs/cp_env/lib/python3.8/site-packages/pymatgen/io/cif.py:1160: UserWarning: Issues encountered while parsing CIF: Some fractional coordinates rounded to ideal values to avoid issues with finite precision.\n",
      "  warnings.warn(\"Issues encountered while parsing CIF: %s\" % \"\\n\".join(self.warnings))\n"
     ]
    },
    {
     "name": "stdout",
     "output_type": "stream",
     "text": [
      "site elemental properties\n",
      "AGNI\n",
      "GSF\n",
      "LPD\n"
     ]
    }
   ],
   "source": [
    "df_features = featurize_dataset(cif_list, verbos=False, saveto=\"data/features_example1.csv\")"
   ]
  },
  {
   "cell_type": "code",
   "execution_count": 4,
   "metadata": {},
   "outputs": [
    {
     "data": {
      "text/html": [
       "<div>\n",
       "<style scoped>\n",
       "    .dataframe tbody tr th:only-of-type {\n",
       "        vertical-align: middle;\n",
       "    }\n",
       "\n",
       "    .dataframe tbody tr th {\n",
       "        vertical-align: top;\n",
       "    }\n",
       "\n",
       "    .dataframe thead th {\n",
       "        text-align: right;\n",
       "    }\n",
       "</style>\n",
       "<table border=\"1\" class=\"dataframe\">\n",
       "  <thead>\n",
       "    <tr style=\"text-align: right;\">\n",
       "      <th></th>\n",
       "      <th>site Number</th>\n",
       "      <th>site AtomicWeight</th>\n",
       "      <th>site Row</th>\n",
       "      <th>site Column</th>\n",
       "      <th>site Electronegativity</th>\n",
       "      <th>site CovalentRadius</th>\n",
       "      <th>AGNI eta=8.00e-01</th>\n",
       "      <th>AGNI eta=1.23e+00</th>\n",
       "      <th>AGNI eta=1.88e+00</th>\n",
       "      <th>AGNI eta=2.89e+00</th>\n",
       "      <th>...</th>\n",
       "      <th>maximum local difference in Row</th>\n",
       "      <th>maximum local difference in Column</th>\n",
       "      <th>maximum local difference in Electronegativity</th>\n",
       "      <th>maximum local difference in CovalentRadius</th>\n",
       "      <th>minimum local difference in Number</th>\n",
       "      <th>minimum local difference in AtomicWeight</th>\n",
       "      <th>minimum local difference in Row</th>\n",
       "      <th>minimum local difference in Column</th>\n",
       "      <th>minimum local difference in Electronegativity</th>\n",
       "      <th>minimum local difference in CovalentRadius</th>\n",
       "    </tr>\n",
       "  </thead>\n",
       "  <tbody>\n",
       "    <tr>\n",
       "      <th>cifs/18150N2_0</th>\n",
       "      <td>1.0</td>\n",
       "      <td>1.00794</td>\n",
       "      <td>1.0</td>\n",
       "      <td>1.0</td>\n",
       "      <td>2.2</td>\n",
       "      <td>31.0</td>\n",
       "      <td>0.139803</td>\n",
       "      <td>0.467199</td>\n",
       "      <td>1.157492</td>\n",
       "      <td>2.414420</td>\n",
       "      <td>...</td>\n",
       "      <td>2.0</td>\n",
       "      <td>16.0</td>\n",
       "      <td>1.24</td>\n",
       "      <td>71.0</td>\n",
       "      <td>0.0</td>\n",
       "      <td>0.0</td>\n",
       "      <td>0.0</td>\n",
       "      <td>0.0</td>\n",
       "      <td>0.0</td>\n",
       "      <td>0.0</td>\n",
       "    </tr>\n",
       "    <tr>\n",
       "      <th>cifs/18150N2_1</th>\n",
       "      <td>1.0</td>\n",
       "      <td>1.00794</td>\n",
       "      <td>1.0</td>\n",
       "      <td>1.0</td>\n",
       "      <td>2.2</td>\n",
       "      <td>31.0</td>\n",
       "      <td>0.130159</td>\n",
       "      <td>0.529070</td>\n",
       "      <td>1.725751</td>\n",
       "      <td>3.807856</td>\n",
       "      <td>...</td>\n",
       "      <td>1.0</td>\n",
       "      <td>15.0</td>\n",
       "      <td>1.24</td>\n",
       "      <td>45.0</td>\n",
       "      <td>0.0</td>\n",
       "      <td>0.0</td>\n",
       "      <td>0.0</td>\n",
       "      <td>0.0</td>\n",
       "      <td>0.0</td>\n",
       "      <td>0.0</td>\n",
       "    </tr>\n",
       "    <tr>\n",
       "      <th>cifs/18150N2_2</th>\n",
       "      <td>1.0</td>\n",
       "      <td>1.00794</td>\n",
       "      <td>1.0</td>\n",
       "      <td>1.0</td>\n",
       "      <td>2.2</td>\n",
       "      <td>31.0</td>\n",
       "      <td>0.141849</td>\n",
       "      <td>0.513710</td>\n",
       "      <td>1.523709</td>\n",
       "      <td>3.365105</td>\n",
       "      <td>...</td>\n",
       "      <td>2.0</td>\n",
       "      <td>16.0</td>\n",
       "      <td>1.24</td>\n",
       "      <td>71.0</td>\n",
       "      <td>0.0</td>\n",
       "      <td>0.0</td>\n",
       "      <td>0.0</td>\n",
       "      <td>0.0</td>\n",
       "      <td>0.0</td>\n",
       "      <td>0.0</td>\n",
       "    </tr>\n",
       "    <tr>\n",
       "      <th>cifs/18150N2_3</th>\n",
       "      <td>1.0</td>\n",
       "      <td>1.00794</td>\n",
       "      <td>1.0</td>\n",
       "      <td>1.0</td>\n",
       "      <td>2.2</td>\n",
       "      <td>31.0</td>\n",
       "      <td>0.136132</td>\n",
       "      <td>0.509148</td>\n",
       "      <td>1.518896</td>\n",
       "      <td>3.388150</td>\n",
       "      <td>...</td>\n",
       "      <td>1.0</td>\n",
       "      <td>15.0</td>\n",
       "      <td>1.24</td>\n",
       "      <td>45.0</td>\n",
       "      <td>0.0</td>\n",
       "      <td>0.0</td>\n",
       "      <td>0.0</td>\n",
       "      <td>0.0</td>\n",
       "      <td>0.0</td>\n",
       "      <td>0.0</td>\n",
       "    </tr>\n",
       "    <tr>\n",
       "      <th>cifs/18150N2_4</th>\n",
       "      <td>1.0</td>\n",
       "      <td>1.00794</td>\n",
       "      <td>1.0</td>\n",
       "      <td>1.0</td>\n",
       "      <td>2.2</td>\n",
       "      <td>31.0</td>\n",
       "      <td>0.139793</td>\n",
       "      <td>0.498658</td>\n",
       "      <td>1.348067</td>\n",
       "      <td>2.838402</td>\n",
       "      <td>...</td>\n",
       "      <td>2.0</td>\n",
       "      <td>16.0</td>\n",
       "      <td>1.24</td>\n",
       "      <td>71.0</td>\n",
       "      <td>0.0</td>\n",
       "      <td>0.0</td>\n",
       "      <td>0.0</td>\n",
       "      <td>0.0</td>\n",
       "      <td>0.0</td>\n",
       "      <td>0.0</td>\n",
       "    </tr>\n",
       "  </tbody>\n",
       "</table>\n",
       "<p>5 rows × 46 columns</p>\n",
       "</div>"
      ],
      "text/plain": [
       "                site Number  site AtomicWeight  site Row  site Column  \\\n",
       "cifs/18150N2_0          1.0            1.00794       1.0          1.0   \n",
       "cifs/18150N2_1          1.0            1.00794       1.0          1.0   \n",
       "cifs/18150N2_2          1.0            1.00794       1.0          1.0   \n",
       "cifs/18150N2_3          1.0            1.00794       1.0          1.0   \n",
       "cifs/18150N2_4          1.0            1.00794       1.0          1.0   \n",
       "\n",
       "                site Electronegativity  site CovalentRadius  \\\n",
       "cifs/18150N2_0                     2.2                 31.0   \n",
       "cifs/18150N2_1                     2.2                 31.0   \n",
       "cifs/18150N2_2                     2.2                 31.0   \n",
       "cifs/18150N2_3                     2.2                 31.0   \n",
       "cifs/18150N2_4                     2.2                 31.0   \n",
       "\n",
       "                AGNI eta=8.00e-01  AGNI eta=1.23e+00  AGNI eta=1.88e+00  \\\n",
       "cifs/18150N2_0           0.139803           0.467199           1.157492   \n",
       "cifs/18150N2_1           0.130159           0.529070           1.725751   \n",
       "cifs/18150N2_2           0.141849           0.513710           1.523709   \n",
       "cifs/18150N2_3           0.136132           0.509148           1.518896   \n",
       "cifs/18150N2_4           0.139793           0.498658           1.348067   \n",
       "\n",
       "                AGNI eta=2.89e+00  ...  maximum local difference in Row  \\\n",
       "cifs/18150N2_0           2.414420  ...                              2.0   \n",
       "cifs/18150N2_1           3.807856  ...                              1.0   \n",
       "cifs/18150N2_2           3.365105  ...                              2.0   \n",
       "cifs/18150N2_3           3.388150  ...                              1.0   \n",
       "cifs/18150N2_4           2.838402  ...                              2.0   \n",
       "\n",
       "                maximum local difference in Column  \\\n",
       "cifs/18150N2_0                                16.0   \n",
       "cifs/18150N2_1                                15.0   \n",
       "cifs/18150N2_2                                16.0   \n",
       "cifs/18150N2_3                                15.0   \n",
       "cifs/18150N2_4                                16.0   \n",
       "\n",
       "                maximum local difference in Electronegativity  \\\n",
       "cifs/18150N2_0                                           1.24   \n",
       "cifs/18150N2_1                                           1.24   \n",
       "cifs/18150N2_2                                           1.24   \n",
       "cifs/18150N2_3                                           1.24   \n",
       "cifs/18150N2_4                                           1.24   \n",
       "\n",
       "                maximum local difference in CovalentRadius  \\\n",
       "cifs/18150N2_0                                        71.0   \n",
       "cifs/18150N2_1                                        45.0   \n",
       "cifs/18150N2_2                                        71.0   \n",
       "cifs/18150N2_3                                        45.0   \n",
       "cifs/18150N2_4                                        71.0   \n",
       "\n",
       "                minimum local difference in Number  \\\n",
       "cifs/18150N2_0                                 0.0   \n",
       "cifs/18150N2_1                                 0.0   \n",
       "cifs/18150N2_2                                 0.0   \n",
       "cifs/18150N2_3                                 0.0   \n",
       "cifs/18150N2_4                                 0.0   \n",
       "\n",
       "                minimum local difference in AtomicWeight  \\\n",
       "cifs/18150N2_0                                       0.0   \n",
       "cifs/18150N2_1                                       0.0   \n",
       "cifs/18150N2_2                                       0.0   \n",
       "cifs/18150N2_3                                       0.0   \n",
       "cifs/18150N2_4                                       0.0   \n",
       "\n",
       "                minimum local difference in Row  \\\n",
       "cifs/18150N2_0                              0.0   \n",
       "cifs/18150N2_1                              0.0   \n",
       "cifs/18150N2_2                              0.0   \n",
       "cifs/18150N2_3                              0.0   \n",
       "cifs/18150N2_4                              0.0   \n",
       "\n",
       "                minimum local difference in Column  \\\n",
       "cifs/18150N2_0                                 0.0   \n",
       "cifs/18150N2_1                                 0.0   \n",
       "cifs/18150N2_2                                 0.0   \n",
       "cifs/18150N2_3                                 0.0   \n",
       "cifs/18150N2_4                                 0.0   \n",
       "\n",
       "                minimum local difference in Electronegativity  \\\n",
       "cifs/18150N2_0                                            0.0   \n",
       "cifs/18150N2_1                                            0.0   \n",
       "cifs/18150N2_2                                            0.0   \n",
       "cifs/18150N2_3                                            0.0   \n",
       "cifs/18150N2_4                                            0.0   \n",
       "\n",
       "                minimum local difference in CovalentRadius  \n",
       "cifs/18150N2_0                                         0.0  \n",
       "cifs/18150N2_1                                         0.0  \n",
       "cifs/18150N2_2                                         0.0  \n",
       "cifs/18150N2_3                                         0.0  \n",
       "cifs/18150N2_4                                         0.0  \n",
       "\n",
       "[5 rows x 46 columns]"
      ]
     },
     "execution_count": 4,
     "metadata": {},
     "output_type": "execute_result"
    }
   ],
   "source": [
    "df_features.head()"
   ]
  },
  {
   "cell_type": "code",
   "execution_count": null,
   "metadata": {},
   "outputs": [],
   "source": []
  }
 ],
 "metadata": {
  "interpreter": {
   "hash": "6445d2c96f5e8810f38801448ab4557777b6ac14dfe843a4a9952dda5d81545d"
  },
  "kernelspec": {
   "display_name": "Python 3.9.10 ('cp_app')",
   "language": "python",
   "name": "python3"
  },
  "language_info": {
   "codemirror_mode": {
    "name": "ipython",
    "version": 3
   },
   "file_extension": ".py",
   "mimetype": "text/x-python",
   "name": "python",
   "nbconvert_exporter": "python",
   "pygments_lexer": "ipython3",
   "version": "3.8.12"
  },
  "orig_nbformat": 4
 },
 "nbformat": 4,
 "nbformat_minor": 2
}
