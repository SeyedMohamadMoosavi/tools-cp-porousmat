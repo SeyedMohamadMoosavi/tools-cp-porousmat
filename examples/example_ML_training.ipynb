{
 "cells": [
  {
   "cell_type": "code",
   "execution_count": 18,
   "metadata": {},
   "outputs": [],
   "source": [
    "# General\n",
    "import pandas as pd\n",
    "import numpy as np\n",
    "import pathlib\n",
    "\n",
    "# ML\n",
    "from sklearn.pipeline import Pipeline\n",
    "from sklearn.preprocessing import StandardScaler\n",
    "from sklearn.feature_selection import VarianceThreshold\n",
    "from sklearn.model_selection import train_test_split\n",
    "from sklearn.utils import resample\n",
    "from xgboost import XGBRegressor \n",
    "\n",
    "# Cp \n",
    "from cp_app.utils import select_structures\n",
    "from cp_app.descriptors import cv_features\n",
    "\n",
    "# others\n",
    "import warnings\n",
    "warnings.filterwarnings('ignore')"
   ]
  },
  {
   "cell_type": "markdown",
   "metadata": {},
   "source": [
    "## Setting up the model, target, and features"
   ]
  },
  {
   "cell_type": "code",
   "execution_count": 19,
   "metadata": {},
   "outputs": [],
   "source": [
    "\n",
    "FEATURES = cv_features\n",
    "TARGET = 'pCv_300.00' "
   ]
  },
  {
   "cell_type": "code",
   "execution_count": 20,
   "metadata": {},
   "outputs": [],
   "source": [
    "def xgb_model(best_params, X, FEATURES, TARGET):\n",
    "    pipe_xgb = Pipeline(\n",
    "        [\n",
    "       ('scaling', StandardScaler()), \n",
    "       ('variance_threshold', VarianceThreshold(threshold=0.95)),\n",
    "       ('xgb', XGBRegressor())\n",
    "       \n",
    "       ]\n",
    "    )\n",
    "    pipe_xgb.set_params(xgb__reg_lambda = best_params[\"xgb__reg_lambda\"])\n",
    "    pipe_xgb.set_params(xgb__reg_alpha = best_params[\"xgb__reg_alpha\"])\n",
    "    pipe_xgb.set_params(xgb__n_estimators = best_params[\"xgb__n_estimators\"])\n",
    "    pipe_xgb.set_params(xgb__max_depth = best_params[\"xgb__max_depth\"])\n",
    "    pipe_xgb.set_params(xgb__learning_rate = best_params[\"xgb__learning_rate\"])\n",
    "    \n",
    "    pipe_xgb.fit(X[FEATURES], X[TARGET])\n",
    "    \n",
    "    return pipe_xgb\n",
    "    "
   ]
  },
  {
   "cell_type": "code",
   "execution_count": 21,
   "metadata": {},
   "outputs": [],
   "source": [
    "## these were obtained using hyperopt\n",
    "xgb_hyperparams = {\n",
    "    'xgb__reg_lambda': 0.049238826317067365,\n",
    "    'xgb__reg_alpha': 0.049238826317067365,\n",
    "    'xgb__n_estimators': 300,\n",
    "    'xgb__max_depth': 10,\n",
    "    'xgb__learning_rate': 0.1\n",
    "}"
   ]
  },
  {
   "cell_type": "markdown",
   "metadata": {},
   "source": [
    "## Data loading, and train test split,..."
   ]
  },
  {
   "cell_type": "code",
   "execution_count": 29,
   "metadata": {},
   "outputs": [],
   "source": [
    "RANDOM_SEED = 3982\n",
    "DATA_DIR = 'data/'\n",
    "DATA_site = 'alldata.csv'\n",
    "DATA_structure = 'structures_data.csv'\n",
    "flag=\"smallML_120_10\" # name_#TrainSize_#EnsembleSize \n",
    "N_ensemble = int(flag.split(\"_\")[2])\n",
    "N_train=int(flag.split(\"_\")[1])"
   ]
  },
  {
   "cell_type": "code",
   "execution_count": 30,
   "metadata": {},
   "outputs": [
    {
     "name": "stdout",
     "output_type": "stream",
     "text": [
      "Total structures:  232\n"
     ]
    }
   ],
   "source": [
    "df_structures=pd.read_csv(DATA_DIR+DATA_structure)\n",
    "df_allsites = pd.read_csv(DATA_DIR+DATA_site)\n",
    "print(\"Total structures: \", len(df_structures))"
   ]
  },
  {
   "cell_type": "markdown",
   "metadata": {},
   "source": [
    "### train test split, making sure we have diverse training set"
   ]
  },
  {
   "cell_type": "code",
   "execution_count": 31,
   "metadata": {},
   "outputs": [
    {
     "name": "stdout",
     "output_type": "stream",
     "text": [
      "120 structures in training set\n",
      "112 structures in test set\n"
     ]
    }
   ],
   "source": [
    "inds=select_structures(N_train,df_structures)\n",
    "df_train_structures=df_structures.loc[df_structures.index.isin(inds)]\n",
    "df_test_structures=df_structures.loc[~df_structures.index.isin(inds)]\n",
    "df_train_structures.to_csv(DATA_DIR+\"train_structures.csv\")\n",
    "df_test_structures.to_csv(DATA_DIR+\"test_structures.csv\")\n",
    "print(\"{} structures in training set\".format(len(df_train_structures)))\n",
    "print(\"{} structures in test set\".format(len(df_test_structures)))"
   ]
  },
  {
   "cell_type": "code",
   "execution_count": 32,
   "metadata": {},
   "outputs": [],
   "source": [
    "df = df_allsites.loc[df_allsites[\"structure_name\"].isin(df_train_structures[\"Unnamed: 0\"])]\n",
    "df_site_test = df_allsites.loc[~df_allsites[\"structure_name\"].isin(df_train_structures[\"Unnamed: 0\"])]\n",
    "df.to_csv(DATA_DIR+\"site_train.csv\",index=False)"
   ]
  },
  {
   "cell_type": "code",
   "execution_count": 33,
   "metadata": {},
   "outputs": [],
   "source": [
    "THRESHOLD =df[TARGET].median()\n",
    "train_size=min(int(0.95*len(df)),max(10000,len(df)))\n",
    "test_size=len(df)-train_size\n",
    "df['target_binned'] = [1 if value > THRESHOLD else 0 for value in df[TARGET]]\n",
    "df_train_stratified, df_test_stratified = train_test_split(df, train_size=train_size, \n",
    "                                                                test_size=test_size, \n",
    "                                                                random_state=RANDOM_SEED, \n",
    "                                                                stratify=df['target_binned']) "
   ]
  },
  {
   "cell_type": "markdown",
   "metadata": {},
   "source": [
    "### generating bootstrapped trainset for quantifying uncertainty"
   ]
  },
  {
   "cell_type": "code",
   "execution_count": 34,
   "metadata": {},
   "outputs": [],
   "source": [
    "Xs = []\n",
    "for i in range(N_ensemble):\n",
    "    X = resample(df_train_stratified, replace=True,random_state=i) \n",
    "    Xs.append(X)"
   ]
  },
  {
   "cell_type": "code",
   "execution_count": null,
   "metadata": {},
   "outputs": [],
   "source": []
  },
  {
   "cell_type": "code",
   "execution_count": null,
   "metadata": {},
   "outputs": [],
   "source": []
  },
  {
   "cell_type": "code",
   "execution_count": null,
   "metadata": {},
   "outputs": [],
   "source": []
  },
  {
   "cell_type": "code",
   "execution_count": null,
   "metadata": {},
   "outputs": [],
   "source": []
  },
  {
   "cell_type": "code",
   "execution_count": null,
   "metadata": {},
   "outputs": [],
   "source": [
    "cif_list = glob.glob(\"cifs/*\")"
   ]
  },
  {
   "cell_type": "code",
   "execution_count": null,
   "metadata": {},
   "outputs": [],
   "source": [
    "df_features = featurize_dataset(cif_list, verbos=False, saveto=\"data/features_example1.csv\")"
   ]
  },
  {
   "cell_type": "code",
   "execution_count": null,
   "metadata": {},
   "outputs": [],
   "source": [
    "df_features.head()"
   ]
  },
  {
   "cell_type": "code",
   "execution_count": null,
   "metadata": {},
   "outputs": [],
   "source": []
  }
 ],
 "metadata": {
  "interpreter": {
   "hash": "6445d2c96f5e8810f38801448ab4557777b6ac14dfe843a4a9952dda5d81545d"
  },
  "kernelspec": {
   "display_name": "Python 3.9.10 ('cp_app')",
   "language": "python",
   "name": "python3"
  },
  "language_info": {
   "codemirror_mode": {
    "name": "ipython",
    "version": 3
   },
   "file_extension": ".py",
   "mimetype": "text/x-python",
   "name": "python",
   "nbconvert_exporter": "python",
   "pygments_lexer": "ipython3",
   "version": "3.8.12"
  },
  "orig_nbformat": 4
 },
 "nbformat": 4,
 "nbformat_minor": 2
}
