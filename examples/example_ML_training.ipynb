{
 "cells": [
  {
   "cell_type": "code",
   "execution_count": 1,
   "metadata": {},
   "outputs": [
    {
     "name": "stderr",
     "output_type": "stream",
     "text": [
      "/Users/moosavi/miniconda3/envs/cpenv/lib/python3.9/site-packages/xgboost/compat.py:36: FutureWarning: pandas.Int64Index is deprecated and will be removed from pandas in a future version. Use pandas.Index with the appropriate dtype instead.\n",
      "  from pandas import MultiIndex, Int64Index\n"
     ]
    }
   ],
   "source": [
    "# General\n",
    "import pandas as pd\n",
    "import numpy as np\n",
    "import pathlib\n",
    "import matplotlib.pyplot as plt\n",
    "%matplotlib inline\n",
    "\n",
    "# ML\n",
    "from sklearn.pipeline import Pipeline\n",
    "from sklearn.preprocessing import StandardScaler\n",
    "from sklearn.feature_selection import VarianceThreshold\n",
    "from sklearn.model_selection import train_test_split\n",
    "from sklearn.utils import resample\n",
    "import joblib\n",
    "from xgboost import XGBRegressor \n",
    "\n",
    "# Cp \n",
    "from cp_app.utils import select_structures\n",
    "from cp_app.descriptors import cv_features\n",
    "from cp_app.predictions import predict_Cv_ensemble_dataset\n",
    "\n",
    "# others\n",
    "import warnings\n",
    "warnings.filterwarnings('ignore')"
   ]
  },
  {
   "cell_type": "markdown",
   "metadata": {},
   "source": [
    "## Setting up the model, target, and features"
   ]
  },
  {
   "cell_type": "code",
   "execution_count": 2,
   "metadata": {},
   "outputs": [],
   "source": [
    "\n",
    "FEATURES = cv_features\n",
    "TARGET = 'pCv_300.00' \n",
    "temperature=\"300.00\""
   ]
  },
  {
   "cell_type": "code",
   "execution_count": 3,
   "metadata": {},
   "outputs": [],
   "source": [
    "def xgb_model(best_params, X, FEATURES, TARGET):\n",
    "    pipe_xgb = Pipeline(\n",
    "        [\n",
    "       ('scaling', StandardScaler()), \n",
    "       ('variance_threshold', VarianceThreshold(threshold=0.95)),\n",
    "       ('xgb', XGBRegressor())\n",
    "       \n",
    "       ]\n",
    "    )\n",
    "    pipe_xgb.set_params(xgb__reg_lambda = best_params[\"xgb__reg_lambda\"])\n",
    "    pipe_xgb.set_params(xgb__reg_alpha = best_params[\"xgb__reg_alpha\"])\n",
    "    pipe_xgb.set_params(xgb__n_estimators = best_params[\"xgb__n_estimators\"])\n",
    "    pipe_xgb.set_params(xgb__max_depth = best_params[\"xgb__max_depth\"])\n",
    "    pipe_xgb.set_params(xgb__learning_rate = best_params[\"xgb__learning_rate\"])\n",
    "    \n",
    "    pipe_xgb.fit(X[FEATURES], X[TARGET])\n",
    "    \n",
    "    return pipe_xgb\n",
    "    "
   ]
  },
  {
   "cell_type": "code",
   "execution_count": 4,
   "metadata": {},
   "outputs": [],
   "source": [
    "## these were obtained using hyperopt\n",
    "xgb_hyperparams = {\n",
    "    'xgb__reg_lambda': 0.049238826317067365,\n",
    "    'xgb__reg_alpha': 0.049238826317067365,\n",
    "    'xgb__n_estimators': 300,\n",
    "    'xgb__max_depth': 10,\n",
    "    'xgb__learning_rate': 0.1\n",
    "}"
   ]
  },
  {
   "cell_type": "markdown",
   "metadata": {},
   "source": [
    "## Data loading, and train test split,..."
   ]
  },
  {
   "cell_type": "code",
   "execution_count": 5,
   "metadata": {},
   "outputs": [],
   "source": [
    "RANDOM_SEED = 3982\n",
    "DATA_DIR = 'data/'\n",
    "DATA_site = 'alldata.csv'\n",
    "DATA_structure = 'structures_data.csv'\n",
    "flag=\"smallML_120_10\" # name_#TrainSize_#EnsembleSize \n",
    "N_ensemble = int(flag.split(\"_\")[2])\n",
    "N_train=int(flag.split(\"_\")[1])"
   ]
  },
  {
   "cell_type": "code",
   "execution_count": 6,
   "metadata": {},
   "outputs": [
    {
     "name": "stdout",
     "output_type": "stream",
     "text": [
      "Total structures:  232\n"
     ]
    }
   ],
   "source": [
    "df_structures=pd.read_csv(DATA_DIR+DATA_structure)\n",
    "df_allsites = pd.read_csv(DATA_DIR+DATA_site)\n",
    "print(\"Total structures: \", len(df_structures))"
   ]
  },
  {
   "cell_type": "markdown",
   "metadata": {},
   "source": [
    "### train test split, making sure we have diverse training set"
   ]
  },
  {
   "cell_type": "code",
   "execution_count": 7,
   "metadata": {},
   "outputs": [
    {
     "name": "stdout",
     "output_type": "stream",
     "text": [
      "120 structures in training set\n",
      "112 structures in test set\n"
     ]
    }
   ],
   "source": [
    "inds=select_structures(N_train,df_structures)\n",
    "df_train_structures=df_structures.loc[df_structures.index.isin(inds)]\n",
    "df_test_structures=df_structures.loc[~df_structures.index.isin(inds)]\n",
    "df_train_structures.to_csv(DATA_DIR+\"train_structures.csv\")\n",
    "df_test_structures.to_csv(DATA_DIR+\"test_structures.csv\")\n",
    "print(\"{} structures in training set\".format(len(df_train_structures)))\n",
    "print(\"{} structures in test set\".format(len(df_test_structures)))"
   ]
  },
  {
   "cell_type": "code",
   "execution_count": 8,
   "metadata": {},
   "outputs": [],
   "source": [
    "df = df_allsites.loc[df_allsites[\"structure_name\"].isin(df_train_structures[\"Unnamed: 0\"])]\n",
    "df_site_test = df_allsites.loc[~df_allsites[\"structure_name\"].isin(df_train_structures[\"Unnamed: 0\"])]\n",
    "df.to_csv(DATA_DIR+\"site_train.csv\",index=False)"
   ]
  },
  {
   "cell_type": "code",
   "execution_count": 9,
   "metadata": {},
   "outputs": [],
   "source": [
    "THRESHOLD =df[TARGET].median()\n",
    "train_size=min(int(0.95*len(df)),max(10000,len(df)))\n",
    "test_size=len(df)-train_size\n",
    "df['target_binned'] = [1 if value > THRESHOLD else 0 for value in df[TARGET]]\n",
    "df_train_stratified, df_test_stratified = train_test_split(df, train_size=train_size, \n",
    "                                                                test_size=test_size, \n",
    "                                                                random_state=RANDOM_SEED, \n",
    "                                                                stratify=df['target_binned']) "
   ]
  },
  {
   "cell_type": "markdown",
   "metadata": {},
   "source": [
    "### Generating bootstrapped trainset for quantifying uncertainty"
   ]
  },
  {
   "cell_type": "code",
   "execution_count": 10,
   "metadata": {},
   "outputs": [],
   "source": [
    "Xs = []\n",
    "for i in range(N_ensemble):\n",
    "    X = resample(df_train_stratified, replace=True,random_state=i) \n",
    "    Xs.append(X)"
   ]
  },
  {
   "cell_type": "markdown",
   "metadata": {},
   "source": [
    "## Training models"
   ]
  },
  {
   "cell_type": "code",
   "execution_count": 11,
   "metadata": {},
   "outputs": [],
   "source": [
    "models = []\n",
    "for i,X in enumerate(Xs):\n",
    "    model = xgb_model(xgb_hyperparams, X, FEATURES, TARGET)\n",
    "    models.append(model)\n",
    "p = pathlib.Path(\"ensemble_models_{}/{}\".format(flag,temperature))\n",
    "p.mkdir(parents=True, exist_ok=True)\n",
    "for i,model in enumerate(models):\n",
    "    joblib.dump(model,\"ensemble_models_{}/{}/model_{}\".format(flag,temperature,i))"
   ]
  },
  {
   "cell_type": "markdown",
   "metadata": {},
   "source": [
    "## Testing the model"
   ]
  },
  {
   "cell_type": "markdown",
   "metadata": {},
   "source": [
    "### Train set"
   ]
  },
  {
   "cell_type": "markdown",
   "metadata": {},
   "source": [
    "sites in trainset"
   ]
  },
  {
   "cell_type": "code",
   "execution_count": 12,
   "metadata": {},
   "outputs": [
    {
     "data": {
      "text/plain": [
       "<matplotlib.collections.PathCollection at 0x149b1b370>"
      ]
     },
     "execution_count": 12,
     "metadata": {},
     "output_type": "execute_result"
    },
    {
     "data": {
      "image/png": "[encoded data removed]",
      "text/plain": [
       "<Figure size 432x288 with 1 Axes>"
      ]
     },
     "metadata": {
      "needs_background": "light"
     },
     "output_type": "display_data"
    }
   ],
   "source": [
    "predictions = []\n",
    "for model in models:\n",
    "    prediction = model.predict(df_train_stratified[FEATURES])\n",
    "    predictions.append(prediction)\n",
    "    \n",
    "predictions = np.array(predictions)\n",
    "plt.errorbar(df_train_stratified[TARGET],np.mean(predictions,axis = 0), yerr=np.std(predictions,axis = 0), linestyle=\"None\")\n",
    "plt.scatter(df_train_stratified[TARGET],np.mean(predictions,axis = 0))"
   ]
  },
  {
   "cell_type": "markdown",
   "metadata": {},
   "source": [
    "sites that were not in the training set but in the training structures"
   ]
  },
  {
   "cell_type": "code",
   "execution_count": 13,
   "metadata": {},
   "outputs": [
    {
     "data": {
      "text/plain": [
       "<matplotlib.collections.PathCollection at 0x149cd2d00>"
      ]
     },
     "execution_count": 13,
     "metadata": {},
     "output_type": "execute_result"
    },
    {
     "data": {
      "image/png": "[encoded data removed]",
      "text/plain": [
       "<Figure size 432x288 with 1 Axes>"
      ]
     },
     "metadata": {
      "needs_background": "light"
     },
     "output_type": "display_data"
    }
   ],
   "source": [
    "predictions = []\n",
    "for model in models:\n",
    "    prediction = model.predict(df_test_stratified[FEATURES])\n",
    "    predictions.append(prediction)\n",
    "    \n",
    "predictions = np.array(predictions)\n",
    "plt.errorbar(df_test_stratified[TARGET],np.mean(predictions,axis = 0), yerr=np.std(predictions,axis = 0), linestyle=\"None\")\n",
    "plt.scatter(df_test_stratified[TARGET],np.mean(predictions,axis = 0))"
   ]
  },
  {
   "cell_type": "markdown",
   "metadata": {},
   "source": [
    "### Test set"
   ]
  },
  {
   "cell_type": "code",
   "execution_count": 14,
   "metadata": {},
   "outputs": [
    {
     "data": {
      "text/plain": [
       "<matplotlib.collections.PathCollection at 0x14ac12be0>"
      ]
     },
     "execution_count": 14,
     "metadata": {},
     "output_type": "execute_result"
    },
    {
     "data": {
      "image/png": "[encoded data removed]",
      "text/plain": [
       "<Figure size 432x288 with 1 Axes>"
      ]
     },
     "metadata": {
      "needs_background": "light"
     },
     "output_type": "display_data"
    }
   ],
   "source": [
    "predictions_new = []\n",
    "for model in models:\n",
    "    prediction = model.predict(df_site_test[FEATURES])\n",
    "    predictions_new.append(prediction)\n",
    "    \n",
    "predictions_new = np.array(predictions_new)\n",
    "plt.errorbar(df_site_test[TARGET],np.mean(predictions_new,axis = 0), yerr=np.std(predictions_new,axis = 0), linestyle=\"None\")\n",
    "plt.scatter(df_site_test[TARGET],np.mean(predictions_new,axis = 0))"
   ]
  },
  {
   "cell_type": "code",
   "execution_count": 15,
   "metadata": {},
   "outputs": [],
   "source": [
    "Cvs = predict_Cv_ensemble_dataset(models=models, FEATURES=FEATURES, df_features=df_site_test, temperature=temperature)"
   ]
  },
  {
   "cell_type": "code",
   "execution_count": 16,
   "metadata": {},
   "outputs": [],
   "source": [
    "for ent in Cvs:\n",
    "    ent[\"Cv_gravimetric\"]=df_structures.loc[df_structures[\"Unnamed: 0\"]==ent[\"name\"]][f\"Cv_gravimetric_{temperature}\"].values[0]"
   ]
  },
  {
   "cell_type": "code",
   "execution_count": 17,
   "metadata": {},
   "outputs": [],
   "source": [
    "df_Cvs = pd.DataFrame(Cvs)"
   ]
  },
  {
   "cell_type": "code",
   "execution_count": 18,
   "metadata": {},
   "outputs": [
    {
     "data": {
      "text/plain": [
       "<matplotlib.legend.Legend at 0x14aca8b80>"
      ]
     },
     "execution_count": 18,
     "metadata": {},
     "output_type": "execute_result"
    },
    {
     "data": {
      "image/png": "[encoded data removed]",
      "text/plain": [
       "<Figure size 432x288 with 1 Axes>"
      ]
     },
     "metadata": {
      "needs_background": "light"
     },
     "output_type": "display_data"
    }
   ],
   "source": [
    "certain=df_Cvs.loc[df_Cvs[f\"Cv_gravimetric_{temperature}_std\"]<0.01]\n",
    "uncertain=df_Cvs.loc[df_Cvs[f\"Cv_gravimetric_{temperature}_std\"]>=0.01]\n",
    "plt.scatter(certain[\"Cv_gravimetric\"],certain[f\"Cv_gravimetric_{temperature}_mean\"],label=\"certain\",c=\"b\")\n",
    "plt.scatter(uncertain[\"Cv_gravimetric\"],uncertain[f\"Cv_gravimetric_{temperature}_mean\"],label=\"uncertain\",c=\"r\")\n",
    "xr=np.linspace(0.9*min(df_Cvs[\"Cv_gravimetric\"]),1.1*max(df_Cvs[\"Cv_gravimetric\"]),100)\n",
    "plt.plot(xr,xr,\"k--\")\n",
    "plt.legend()"
   ]
  },
  {
   "cell_type": "code",
   "execution_count": null,
   "metadata": {},
   "outputs": [],
   "source": []
  }
 ],
 "metadata": {
  "interpreter": {
   "hash": "c7eb91bbbeb531e0d19ad810f88d062b660d8b19ec6ada7962729a6a3794b1c9"
  },
  "kernelspec": {
   "display_name": "Python 3.9.12 ('cpenv')",
   "language": "python",
   "name": "python3"
  },
  "language_info": {
   "codemirror_mode": {
    "name": "ipython",
    "version": 3
   },
   "file_extension": ".py",
   "mimetype": "text/x-python",
   "name": "python",
   "nbconvert_exporter": "python",
   "pygments_lexer": "ipython3",
   "version": "3.9.12"
  },
  "orig_nbformat": 4
 },
 "nbformat": 4,
 "nbformat_minor": 2
}
