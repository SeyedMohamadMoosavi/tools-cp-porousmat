{
 "cells": [
  {
   "cell_type": "markdown",
   "metadata": {},
   "source": [
    "This notebook shows how to load trained ML models (see example_ML_training) and predict the heat capacity for new materials"
   ]
  },
  {
   "cell_type": "code",
   "execution_count": 6,
   "metadata": {},
   "outputs": [],
   "source": [
    "from cp_app.featurizer import featurize_structure\n",
    "from cp_app.predictions import predict_Cv_ensemble_structure_multitemperatures\n",
    "from cp_app.descriptors import cv_features\n",
    "import pandas as pd"
   ]
  },
  {
   "cell_type": "markdown",
   "metadata": {},
   "source": [
    "## Featurizing new materials"
   ]
  },
  {
   "cell_type": "code",
   "execution_count": 7,
   "metadata": {},
   "outputs": [],
   "source": [
    "cif_name = \"cifs/AFI.cif\""
   ]
  },
  {
   "cell_type": "code",
   "execution_count": 8,
   "metadata": {},
   "outputs": [
    {
     "name": "stderr",
     "output_type": "stream",
     "text": [
      "/Users/moosavi/miniconda3/envs/cpenv/lib/python3.9/site-packages/pymatgen/io/cif.py:1160: UserWarning: Issues encountered while parsing CIF: Some fractional coordinates rounded to ideal values to avoid issues with finite precision.\n",
      "  warnings.warn(\"Issues encountered while parsing CIF: %s\" % \"\\n\".join(self.warnings))\n"
     ]
    },
    {
     "name": "stdout",
     "output_type": "stream",
     "text": [
      "site elemental properties\n",
      "AGNI\n",
      "GSF\n",
      "LPD\n"
     ]
    }
   ],
   "source": [
    "df_features = featurize_structure(cif_name, verbos=False, saveto=\"data/features_AFI.csv\")"
   ]
  },
  {
   "cell_type": "code",
   "execution_count": 9,
   "metadata": {},
   "outputs": [
    {
     "data": {
      "text/html": [
       "<div>\n",
       "<style scoped>\n",
       "    .dataframe tbody tr th:only-of-type {\n",
       "        vertical-align: middle;\n",
       "    }\n",
       "\n",
       "    .dataframe tbody tr th {\n",
       "        vertical-align: top;\n",
       "    }\n",
       "\n",
       "    .dataframe thead th {\n",
       "        text-align: right;\n",
       "    }\n",
       "</style>\n",
       "<table border=\"1\" class=\"dataframe\">\n",
       "  <thead>\n",
       "    <tr style=\"text-align: right;\">\n",
       "      <th></th>\n",
       "      <th>structure_name</th>\n",
       "      <th>structure_path</th>\n",
       "      <th>site Number</th>\n",
       "      <th>site AtomicWeight</th>\n",
       "      <th>site Row</th>\n",
       "      <th>site Column</th>\n",
       "      <th>site Electronegativity</th>\n",
       "      <th>site CovalentRadius</th>\n",
       "      <th>AGNI eta=8.00e-01</th>\n",
       "      <th>AGNI eta=1.23e+00</th>\n",
       "      <th>...</th>\n",
       "      <th>maximum local difference in Row</th>\n",
       "      <th>maximum local difference in Column</th>\n",
       "      <th>maximum local difference in Electronegativity</th>\n",
       "      <th>maximum local difference in CovalentRadius</th>\n",
       "      <th>minimum local difference in Number</th>\n",
       "      <th>minimum local difference in AtomicWeight</th>\n",
       "      <th>minimum local difference in Row</th>\n",
       "      <th>minimum local difference in Column</th>\n",
       "      <th>minimum local difference in Electronegativity</th>\n",
       "      <th>minimum local difference in CovalentRadius</th>\n",
       "    </tr>\n",
       "  </thead>\n",
       "  <tbody>\n",
       "    <tr>\n",
       "      <th>AFI.cif_0</th>\n",
       "      <td>AFI.cif</td>\n",
       "      <td>cifs</td>\n",
       "      <td>14.0</td>\n",
       "      <td>28.0855</td>\n",
       "      <td>3.0</td>\n",
       "      <td>14.0</td>\n",
       "      <td>1.9</td>\n",
       "      <td>111.0</td>\n",
       "      <td>0.048084</td>\n",
       "      <td>0.525271</td>\n",
       "      <td>...</td>\n",
       "      <td>-1.0</td>\n",
       "      <td>2.0</td>\n",
       "      <td>1.54</td>\n",
       "      <td>-45.0</td>\n",
       "      <td>-6.0</td>\n",
       "      <td>-12.0861</td>\n",
       "      <td>-1.0</td>\n",
       "      <td>2.0</td>\n",
       "      <td>1.54</td>\n",
       "      <td>-45.0</td>\n",
       "    </tr>\n",
       "    <tr>\n",
       "      <th>AFI.cif_1</th>\n",
       "      <td>AFI.cif</td>\n",
       "      <td>cifs</td>\n",
       "      <td>14.0</td>\n",
       "      <td>28.0855</td>\n",
       "      <td>3.0</td>\n",
       "      <td>14.0</td>\n",
       "      <td>1.9</td>\n",
       "      <td>111.0</td>\n",
       "      <td>0.048185</td>\n",
       "      <td>0.525773</td>\n",
       "      <td>...</td>\n",
       "      <td>-1.0</td>\n",
       "      <td>2.0</td>\n",
       "      <td>1.54</td>\n",
       "      <td>-45.0</td>\n",
       "      <td>-6.0</td>\n",
       "      <td>-12.0861</td>\n",
       "      <td>-1.0</td>\n",
       "      <td>2.0</td>\n",
       "      <td>1.54</td>\n",
       "      <td>-45.0</td>\n",
       "    </tr>\n",
       "    <tr>\n",
       "      <th>AFI.cif_2</th>\n",
       "      <td>AFI.cif</td>\n",
       "      <td>cifs</td>\n",
       "      <td>14.0</td>\n",
       "      <td>28.0855</td>\n",
       "      <td>3.0</td>\n",
       "      <td>14.0</td>\n",
       "      <td>1.9</td>\n",
       "      <td>111.0</td>\n",
       "      <td>0.048437</td>\n",
       "      <td>0.526408</td>\n",
       "      <td>...</td>\n",
       "      <td>-1.0</td>\n",
       "      <td>2.0</td>\n",
       "      <td>1.54</td>\n",
       "      <td>-45.0</td>\n",
       "      <td>-6.0</td>\n",
       "      <td>-12.0861</td>\n",
       "      <td>-1.0</td>\n",
       "      <td>2.0</td>\n",
       "      <td>1.54</td>\n",
       "      <td>-45.0</td>\n",
       "    </tr>\n",
       "    <tr>\n",
       "      <th>AFI.cif_3</th>\n",
       "      <td>AFI.cif</td>\n",
       "      <td>cifs</td>\n",
       "      <td>14.0</td>\n",
       "      <td>28.0855</td>\n",
       "      <td>3.0</td>\n",
       "      <td>14.0</td>\n",
       "      <td>1.9</td>\n",
       "      <td>111.0</td>\n",
       "      <td>0.048085</td>\n",
       "      <td>0.525266</td>\n",
       "      <td>...</td>\n",
       "      <td>-1.0</td>\n",
       "      <td>2.0</td>\n",
       "      <td>1.54</td>\n",
       "      <td>-45.0</td>\n",
       "      <td>-6.0</td>\n",
       "      <td>-12.0861</td>\n",
       "      <td>-1.0</td>\n",
       "      <td>2.0</td>\n",
       "      <td>1.54</td>\n",
       "      <td>-45.0</td>\n",
       "    </tr>\n",
       "    <tr>\n",
       "      <th>AFI.cif_4</th>\n",
       "      <td>AFI.cif</td>\n",
       "      <td>cifs</td>\n",
       "      <td>14.0</td>\n",
       "      <td>28.0855</td>\n",
       "      <td>3.0</td>\n",
       "      <td>14.0</td>\n",
       "      <td>1.9</td>\n",
       "      <td>111.0</td>\n",
       "      <td>0.048156</td>\n",
       "      <td>0.525623</td>\n",
       "      <td>...</td>\n",
       "      <td>-1.0</td>\n",
       "      <td>2.0</td>\n",
       "      <td>1.54</td>\n",
       "      <td>-45.0</td>\n",
       "      <td>-6.0</td>\n",
       "      <td>-12.0861</td>\n",
       "      <td>-1.0</td>\n",
       "      <td>2.0</td>\n",
       "      <td>1.54</td>\n",
       "      <td>-45.0</td>\n",
       "    </tr>\n",
       "  </tbody>\n",
       "</table>\n",
       "<p>5 rows × 48 columns</p>\n",
       "</div>"
      ],
      "text/plain": [
       "          structure_name structure_path site Number site AtomicWeight  \\\n",
       "AFI.cif_0        AFI.cif           cifs        14.0           28.0855   \n",
       "AFI.cif_1        AFI.cif           cifs        14.0           28.0855   \n",
       "AFI.cif_2        AFI.cif           cifs        14.0           28.0855   \n",
       "AFI.cif_3        AFI.cif           cifs        14.0           28.0855   \n",
       "AFI.cif_4        AFI.cif           cifs        14.0           28.0855   \n",
       "\n",
       "          site Row site Column site Electronegativity site CovalentRadius  \\\n",
       "AFI.cif_0      3.0        14.0                    1.9               111.0   \n",
       "AFI.cif_1      3.0        14.0                    1.9               111.0   \n",
       "AFI.cif_2      3.0        14.0                    1.9               111.0   \n",
       "AFI.cif_3      3.0        14.0                    1.9               111.0   \n",
       "AFI.cif_4      3.0        14.0                    1.9               111.0   \n",
       "\n",
       "          AGNI eta=8.00e-01 AGNI eta=1.23e+00  ...  \\\n",
       "AFI.cif_0          0.048084          0.525271  ...   \n",
       "AFI.cif_1          0.048185          0.525773  ...   \n",
       "AFI.cif_2          0.048437          0.526408  ...   \n",
       "AFI.cif_3          0.048085          0.525266  ...   \n",
       "AFI.cif_4          0.048156          0.525623  ...   \n",
       "\n",
       "          maximum local difference in Row maximum local difference in Column  \\\n",
       "AFI.cif_0                            -1.0                                2.0   \n",
       "AFI.cif_1                            -1.0                                2.0   \n",
       "AFI.cif_2                            -1.0                                2.0   \n",
       "AFI.cif_3                            -1.0                                2.0   \n",
       "AFI.cif_4                            -1.0                                2.0   \n",
       "\n",
       "          maximum local difference in Electronegativity  \\\n",
       "AFI.cif_0                                          1.54   \n",
       "AFI.cif_1                                          1.54   \n",
       "AFI.cif_2                                          1.54   \n",
       "AFI.cif_3                                          1.54   \n",
       "AFI.cif_4                                          1.54   \n",
       "\n",
       "          maximum local difference in CovalentRadius  \\\n",
       "AFI.cif_0                                      -45.0   \n",
       "AFI.cif_1                                      -45.0   \n",
       "AFI.cif_2                                      -45.0   \n",
       "AFI.cif_3                                      -45.0   \n",
       "AFI.cif_4                                      -45.0   \n",
       "\n",
       "          minimum local difference in Number  \\\n",
       "AFI.cif_0                               -6.0   \n",
       "AFI.cif_1                               -6.0   \n",
       "AFI.cif_2                               -6.0   \n",
       "AFI.cif_3                               -6.0   \n",
       "AFI.cif_4                               -6.0   \n",
       "\n",
       "          minimum local difference in AtomicWeight  \\\n",
       "AFI.cif_0                                 -12.0861   \n",
       "AFI.cif_1                                 -12.0861   \n",
       "AFI.cif_2                                 -12.0861   \n",
       "AFI.cif_3                                 -12.0861   \n",
       "AFI.cif_4                                 -12.0861   \n",
       "\n",
       "          minimum local difference in Row minimum local difference in Column  \\\n",
       "AFI.cif_0                            -1.0                                2.0   \n",
       "AFI.cif_1                            -1.0                                2.0   \n",
       "AFI.cif_2                            -1.0                                2.0   \n",
       "AFI.cif_3                            -1.0                                2.0   \n",
       "AFI.cif_4                            -1.0                                2.0   \n",
       "\n",
       "          minimum local difference in Electronegativity  \\\n",
       "AFI.cif_0                                          1.54   \n",
       "AFI.cif_1                                          1.54   \n",
       "AFI.cif_2                                          1.54   \n",
       "AFI.cif_3                                          1.54   \n",
       "AFI.cif_4                                          1.54   \n",
       "\n",
       "          minimum local difference in CovalentRadius  \n",
       "AFI.cif_0                                      -45.0  \n",
       "AFI.cif_1                                      -45.0  \n",
       "AFI.cif_2                                      -45.0  \n",
       "AFI.cif_3                                      -45.0  \n",
       "AFI.cif_4                                      -45.0  \n",
       "\n",
       "[5 rows x 48 columns]"
      ]
     },
     "execution_count": 9,
     "metadata": {},
     "output_type": "execute_result"
    }
   ],
   "source": [
    "df_features.head()"
   ]
  },
  {
   "cell_type": "markdown",
   "metadata": {},
   "source": [
    "## Predicting heat capacity"
   ]
  },
  {
   "cell_type": "markdown",
   "metadata": {},
   "source": [
    "Note: first run example_ML_training to make the ensemble ML models"
   ]
  },
  {
   "cell_type": "code",
   "execution_count": 10,
   "metadata": {},
   "outputs": [
    {
     "name": "stdout",
     "output_type": "stream",
     "text": [
      "loading models for: 300.0\n"
     ]
    },
    {
     "name": "stderr",
     "output_type": "stream",
     "text": [
      "/Users/moosavi/miniconda3/envs/cpenv/lib/python3.9/site-packages/xgboost/compat.py:36: FutureWarning: pandas.Int64Index is deprecated and will be removed from pandas in a future version. Use pandas.Index with the appropriate dtype instead.\n",
      "  from pandas import MultiIndex, Int64Index\n"
     ]
    },
    {
     "name": "stdout",
     "output_type": "stream",
     "text": [
      "10 models loaded, predicting...\n",
      "AFI.cif\n"
     ]
    }
   ],
   "source": [
    "df_predictions=predict_Cv_ensemble_structure_multitemperatures(path_to_models=\"ensemble_models_smallML_120_10\", structure_name=\"AFI.cif\", features_file=\"data/features_AFI.csv\", \n",
    "                FEATURES=cv_features, temperatures=[300.00],save_to=\"data/cv_predictions_AFI.csv\")"
   ]
  },
  {
   "cell_type": "code",
   "execution_count": 11,
   "metadata": {},
   "outputs": [
    {
     "data": {
      "text/html": [
       "<div>\n",
       "<style scoped>\n",
       "    .dataframe tbody tr th:only-of-type {\n",
       "        vertical-align: middle;\n",
       "    }\n",
       "\n",
       "    .dataframe tbody tr th {\n",
       "        vertical-align: top;\n",
       "    }\n",
       "\n",
       "    .dataframe thead th {\n",
       "        text-align: right;\n",
       "    }\n",
       "</style>\n",
       "<table border=\"1\" class=\"dataframe\">\n",
       "  <thead>\n",
       "    <tr style=\"text-align: right;\">\n",
       "      <th></th>\n",
       "      <th>name</th>\n",
       "      <th>Cv_gravimetric_300.0_mean</th>\n",
       "      <th>Cv_gravimetric_300.0_std</th>\n",
       "      <th>Cv_molar_300.0_mean</th>\n",
       "      <th>Cv_molar_300.0_std</th>\n",
       "    </tr>\n",
       "  </thead>\n",
       "  <tbody>\n",
       "    <tr>\n",
       "      <th>0</th>\n",
       "      <td>AFI.cif</td>\n",
       "      <td>0.7368</td>\n",
       "      <td>0.000631</td>\n",
       "      <td>14.756702</td>\n",
       "      <td>0.012644</td>\n",
       "    </tr>\n",
       "  </tbody>\n",
       "</table>\n",
       "</div>"
      ],
      "text/plain": [
       "      name  Cv_gravimetric_300.0_mean  Cv_gravimetric_300.0_std  \\\n",
       "0  AFI.cif                     0.7368                  0.000631   \n",
       "\n",
       "   Cv_molar_300.0_mean  Cv_molar_300.0_std  \n",
       "0            14.756702            0.012644  "
      ]
     },
     "execution_count": 11,
     "metadata": {},
     "output_type": "execute_result"
    }
   ],
   "source": [
    "df_predictions"
   ]
  },
  {
   "cell_type": "code",
   "execution_count": null,
   "metadata": {},
   "outputs": [],
   "source": []
  }
 ],
 "metadata": {
  "interpreter": {
   "hash": "c7eb91bbbeb531e0d19ad810f88d062b660d8b19ec6ada7962729a6a3794b1c9"
  },
  "kernelspec": {
   "display_name": "Python 3.9.12 ('cpenv')",
   "language": "python",
   "name": "python3"
  },
  "language_info": {
   "codemirror_mode": {
    "name": "ipython",
    "version": 3
   },
   "file_extension": ".py",
   "mimetype": "text/x-python",
   "name": "python",
   "nbconvert_exporter": "python",
   "pygments_lexer": "ipython3",
   "version": "3.9.12"
  },
  "orig_nbformat": 4
 },
 "nbformat": 4,
 "nbformat_minor": 2
}
